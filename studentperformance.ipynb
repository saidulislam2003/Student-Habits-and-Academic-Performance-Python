{
  "cells": [
    {
      "cell_type": "markdown",
      "metadata": {
        "colab_type": "text",
        "id": "view-in-github"
      },
      "source": [
        "<a href=\"https://colab.research.google.com/github/saidulislam2003/Student-Habits-and-Academic-Performance-Python/blob/main/studentperformance.ipynb\" target=\"_parent\"><img src=\"https://colab.research.google.com/assets/colab-badge.svg\" alt=\"Open In Colab\"/></a>"
      ]
    },
    {
      "cell_type": "markdown",
      "metadata": {
        "id": "n7wE6cmfAxIN"
      },
      "source": [
        "# ***Initial Exploration & Data Cleaning***"
      ]
    },
    {
      "cell_type": "code",
      "execution_count": 1,
      "metadata": {
        "id": "zGcxZyugLBX3"
      },
      "outputs": [],
      "source": [
        "import pandas as pd"
      ]
    },
    {
      "cell_type": "code",
      "execution_count": 2,
      "metadata": {
        "id": "-A8EUe7GLKoq"
      },
      "outputs": [],
      "source": [
        "df = pd.read_csv('student_habits_performance.csv')"
      ]
    },
    {
      "cell_type": "code",
      "execution_count": 3,
      "metadata": {
        "colab": {
          "base_uri": "https://localhost:8080/",
          "height": 226
        },
        "id": "8m_gqHLOLR-a",
        "outputId": "76e93158-68b8-46c1-cfcd-c9cfee729305"
      },
      "outputs": [
        {
          "data": {
            "text/html": [
              "<div>\n",
              "<style scoped>\n",
              "    .dataframe tbody tr th:only-of-type {\n",
              "        vertical-align: middle;\n",
              "    }\n",
              "\n",
              "    .dataframe tbody tr th {\n",
              "        vertical-align: top;\n",
              "    }\n",
              "\n",
              "    .dataframe thead th {\n",
              "        text-align: right;\n",
              "    }\n",
              "</style>\n",
              "<table border=\"1\" class=\"dataframe\">\n",
              "  <thead>\n",
              "    <tr style=\"text-align: right;\">\n",
              "      <th></th>\n",
              "      <th>student_id</th>\n",
              "      <th>age</th>\n",
              "      <th>gender</th>\n",
              "      <th>study_hours_per_day</th>\n",
              "      <th>social_media_hours</th>\n",
              "      <th>netflix_hours</th>\n",
              "      <th>part_time_job</th>\n",
              "      <th>attendance_percentage</th>\n",
              "      <th>sleep_hours</th>\n",
              "      <th>diet_quality</th>\n",
              "      <th>exercise_frequency</th>\n",
              "      <th>parental_education_level</th>\n",
              "      <th>internet_quality</th>\n",
              "      <th>mental_health_rating</th>\n",
              "      <th>extracurricular_participation</th>\n",
              "      <th>exam_score</th>\n",
              "    </tr>\n",
              "  </thead>\n",
              "  <tbody>\n",
              "    <tr>\n",
              "      <th>0</th>\n",
              "      <td>S1000</td>\n",
              "      <td>23</td>\n",
              "      <td>Female</td>\n",
              "      <td>0.0</td>\n",
              "      <td>1.2</td>\n",
              "      <td>1.1</td>\n",
              "      <td>No</td>\n",
              "      <td>85.0</td>\n",
              "      <td>8.0</td>\n",
              "      <td>Fair</td>\n",
              "      <td>6</td>\n",
              "      <td>Master</td>\n",
              "      <td>Average</td>\n",
              "      <td>8</td>\n",
              "      <td>Yes</td>\n",
              "      <td>56.2</td>\n",
              "    </tr>\n",
              "    <tr>\n",
              "      <th>1</th>\n",
              "      <td>S1001</td>\n",
              "      <td>20</td>\n",
              "      <td>Female</td>\n",
              "      <td>6.9</td>\n",
              "      <td>2.8</td>\n",
              "      <td>2.3</td>\n",
              "      <td>No</td>\n",
              "      <td>97.3</td>\n",
              "      <td>4.6</td>\n",
              "      <td>Good</td>\n",
              "      <td>6</td>\n",
              "      <td>High School</td>\n",
              "      <td>Average</td>\n",
              "      <td>8</td>\n",
              "      <td>No</td>\n",
              "      <td>100.0</td>\n",
              "    </tr>\n",
              "    <tr>\n",
              "      <th>2</th>\n",
              "      <td>S1002</td>\n",
              "      <td>21</td>\n",
              "      <td>Male</td>\n",
              "      <td>1.4</td>\n",
              "      <td>3.1</td>\n",
              "      <td>1.3</td>\n",
              "      <td>No</td>\n",
              "      <td>94.8</td>\n",
              "      <td>8.0</td>\n",
              "      <td>Poor</td>\n",
              "      <td>1</td>\n",
              "      <td>High School</td>\n",
              "      <td>Poor</td>\n",
              "      <td>1</td>\n",
              "      <td>No</td>\n",
              "      <td>34.3</td>\n",
              "    </tr>\n",
              "    <tr>\n",
              "      <th>3</th>\n",
              "      <td>S1003</td>\n",
              "      <td>23</td>\n",
              "      <td>Female</td>\n",
              "      <td>1.0</td>\n",
              "      <td>3.9</td>\n",
              "      <td>1.0</td>\n",
              "      <td>No</td>\n",
              "      <td>71.0</td>\n",
              "      <td>9.2</td>\n",
              "      <td>Poor</td>\n",
              "      <td>4</td>\n",
              "      <td>Master</td>\n",
              "      <td>Good</td>\n",
              "      <td>1</td>\n",
              "      <td>Yes</td>\n",
              "      <td>26.8</td>\n",
              "    </tr>\n",
              "    <tr>\n",
              "      <th>4</th>\n",
              "      <td>S1004</td>\n",
              "      <td>19</td>\n",
              "      <td>Female</td>\n",
              "      <td>5.0</td>\n",
              "      <td>4.4</td>\n",
              "      <td>0.5</td>\n",
              "      <td>No</td>\n",
              "      <td>90.9</td>\n",
              "      <td>4.9</td>\n",
              "      <td>Fair</td>\n",
              "      <td>3</td>\n",
              "      <td>Master</td>\n",
              "      <td>Good</td>\n",
              "      <td>1</td>\n",
              "      <td>No</td>\n",
              "      <td>66.4</td>\n",
              "    </tr>\n",
              "  </tbody>\n",
              "</table>\n",
              "</div>"
            ],
            "text/plain": [
              "  student_id  age  gender  study_hours_per_day  social_media_hours  \\\n",
              "0      S1000   23  Female                  0.0                 1.2   \n",
              "1      S1001   20  Female                  6.9                 2.8   \n",
              "2      S1002   21    Male                  1.4                 3.1   \n",
              "3      S1003   23  Female                  1.0                 3.9   \n",
              "4      S1004   19  Female                  5.0                 4.4   \n",
              "\n",
              "   netflix_hours part_time_job  attendance_percentage  sleep_hours  \\\n",
              "0            1.1            No                   85.0          8.0   \n",
              "1            2.3            No                   97.3          4.6   \n",
              "2            1.3            No                   94.8          8.0   \n",
              "3            1.0            No                   71.0          9.2   \n",
              "4            0.5            No                   90.9          4.9   \n",
              "\n",
              "  diet_quality  exercise_frequency parental_education_level internet_quality  \\\n",
              "0         Fair                   6                   Master          Average   \n",
              "1         Good                   6              High School          Average   \n",
              "2         Poor                   1              High School             Poor   \n",
              "3         Poor                   4                   Master             Good   \n",
              "4         Fair                   3                   Master             Good   \n",
              "\n",
              "   mental_health_rating extracurricular_participation  exam_score  \n",
              "0                     8                           Yes        56.2  \n",
              "1                     8                            No       100.0  \n",
              "2                     1                            No        34.3  \n",
              "3                     1                           Yes        26.8  \n",
              "4                     1                            No        66.4  "
            ]
          },
          "execution_count": 3,
          "metadata": {},
          "output_type": "execute_result"
        }
      ],
      "source": [
        "df.head()"
      ]
    },
    {
      "cell_type": "code",
      "execution_count": 4,
      "metadata": {
        "colab": {
          "base_uri": "https://localhost:8080/"
        },
        "id": "Of63Rze6LTPq",
        "outputId": "529d6a73-c366-476f-bfd5-1aa270cd4a82"
      },
      "outputs": [
        {
          "name": "stdout",
          "output_type": "stream",
          "text": [
            "<class 'pandas.core.frame.DataFrame'>\n",
            "RangeIndex: 1000 entries, 0 to 999\n",
            "Data columns (total 16 columns):\n",
            " #   Column                         Non-Null Count  Dtype  \n",
            "---  ------                         --------------  -----  \n",
            " 0   student_id                     1000 non-null   object \n",
            " 1   age                            1000 non-null   int64  \n",
            " 2   gender                         1000 non-null   object \n",
            " 3   study_hours_per_day            1000 non-null   float64\n",
            " 4   social_media_hours             1000 non-null   float64\n",
            " 5   netflix_hours                  1000 non-null   float64\n",
            " 6   part_time_job                  1000 non-null   object \n",
            " 7   attendance_percentage          1000 non-null   float64\n",
            " 8   sleep_hours                    1000 non-null   float64\n",
            " 9   diet_quality                   1000 non-null   object \n",
            " 10  exercise_frequency             1000 non-null   int64  \n",
            " 11  parental_education_level       909 non-null    object \n",
            " 12  internet_quality               1000 non-null   object \n",
            " 13  mental_health_rating           1000 non-null   int64  \n",
            " 14  extracurricular_participation  1000 non-null   object \n",
            " 15  exam_score                     1000 non-null   float64\n",
            "dtypes: float64(6), int64(3), object(7)\n",
            "memory usage: 125.1+ KB\n"
          ]
        }
      ],
      "source": [
        "df.info()"
      ]
    },
    {
      "cell_type": "code",
      "execution_count": 5,
      "metadata": {
        "colab": {
          "base_uri": "https://localhost:8080/"
        },
        "id": "iE9b0ae9Lg2Z",
        "outputId": "44360093-8d1e-49c9-95fd-a0dcbc64b91f"
      },
      "outputs": [
        {
          "data": {
            "text/plain": [
              "(1000, 16)"
            ]
          },
          "execution_count": 5,
          "metadata": {},
          "output_type": "execute_result"
        }
      ],
      "source": [
        "df.shape"
      ]
    },
    {
      "cell_type": "code",
      "execution_count": 6,
      "metadata": {
        "colab": {
          "base_uri": "https://localhost:8080/",
          "height": 586
        },
        "id": "GEuQJ2ZdL41p",
        "outputId": "7a0ce376-314b-47c9-91e3-06f0d1b36e15"
      },
      "outputs": [
        {
          "data": {
            "text/plain": [
              "student_id                        0\n",
              "age                               0\n",
              "gender                            0\n",
              "study_hours_per_day               0\n",
              "social_media_hours                0\n",
              "netflix_hours                     0\n",
              "part_time_job                     0\n",
              "attendance_percentage             0\n",
              "sleep_hours                       0\n",
              "diet_quality                      0\n",
              "exercise_frequency                0\n",
              "parental_education_level         91\n",
              "internet_quality                  0\n",
              "mental_health_rating              0\n",
              "extracurricular_participation     0\n",
              "exam_score                        0\n",
              "dtype: int64"
            ]
          },
          "execution_count": 6,
          "metadata": {},
          "output_type": "execute_result"
        }
      ],
      "source": [
        "df.isnull().sum()"
      ]
    },
    {
      "cell_type": "code",
      "execution_count": 7,
      "metadata": {
        "id": "_GXaEPJZNdOJ"
      },
      "outputs": [
        {
          "name": "stderr",
          "output_type": "stream",
          "text": [
            "C:\\Users\\Saidul Islam\\AppData\\Local\\Temp\\ipykernel_11048\\1880550412.py:1: FutureWarning: A value is trying to be set on a copy of a DataFrame or Series through chained assignment using an inplace method.\n",
            "The behavior will change in pandas 3.0. This inplace method will never work because the intermediate object on which we are setting values always behaves as a copy.\n",
            "\n",
            "For example, when doing 'df[col].method(value, inplace=True)', try using 'df.method({col: value}, inplace=True)' or df[col] = df[col].method(value) instead, to perform the operation inplace on the original object.\n",
            "\n",
            "\n",
            "  df['parental_education_level'].fillna('Uneducated', inplace = True)\n"
          ]
        }
      ],
      "source": [
        "df['parental_education_level'].fillna('Uneducated', inplace = True)"
      ]
    },
    {
      "cell_type": "code",
      "execution_count": 8,
      "metadata": {
        "colab": {
          "base_uri": "https://localhost:8080/",
          "height": 586
        },
        "id": "ctj23EcTOVwZ",
        "outputId": "221207f7-dbbd-4dcf-9881-e20ed2ff0da3"
      },
      "outputs": [
        {
          "data": {
            "text/plain": [
              "student_id                       0\n",
              "age                              0\n",
              "gender                           0\n",
              "study_hours_per_day              0\n",
              "social_media_hours               0\n",
              "netflix_hours                    0\n",
              "part_time_job                    0\n",
              "attendance_percentage            0\n",
              "sleep_hours                      0\n",
              "diet_quality                     0\n",
              "exercise_frequency               0\n",
              "parental_education_level         0\n",
              "internet_quality                 0\n",
              "mental_health_rating             0\n",
              "extracurricular_participation    0\n",
              "exam_score                       0\n",
              "dtype: int64"
            ]
          },
          "execution_count": 8,
          "metadata": {},
          "output_type": "execute_result"
        }
      ],
      "source": [
        "df.isnull().sum()"
      ]
    },
    {
      "cell_type": "code",
      "execution_count": 9,
      "metadata": {
        "id": "g50Ofk0B8hSf"
      },
      "outputs": [],
      "source": [
        "df.drop('student_id', axis = 1, inplace = True)"
      ]
    },
    {
      "cell_type": "code",
      "execution_count": 10,
      "metadata": {
        "colab": {
          "base_uri": "https://localhost:8080/",
          "height": 226
        },
        "id": "HcLYewxW8xft",
        "outputId": "a953efcc-f930-43f0-81d5-1411aa93dd5c"
      },
      "outputs": [
        {
          "data": {
            "text/html": [
              "<div>\n",
              "<style scoped>\n",
              "    .dataframe tbody tr th:only-of-type {\n",
              "        vertical-align: middle;\n",
              "    }\n",
              "\n",
              "    .dataframe tbody tr th {\n",
              "        vertical-align: top;\n",
              "    }\n",
              "\n",
              "    .dataframe thead th {\n",
              "        text-align: right;\n",
              "    }\n",
              "</style>\n",
              "<table border=\"1\" class=\"dataframe\">\n",
              "  <thead>\n",
              "    <tr style=\"text-align: right;\">\n",
              "      <th></th>\n",
              "      <th>age</th>\n",
              "      <th>gender</th>\n",
              "      <th>study_hours_per_day</th>\n",
              "      <th>social_media_hours</th>\n",
              "      <th>netflix_hours</th>\n",
              "      <th>part_time_job</th>\n",
              "      <th>attendance_percentage</th>\n",
              "      <th>sleep_hours</th>\n",
              "      <th>diet_quality</th>\n",
              "      <th>exercise_frequency</th>\n",
              "      <th>parental_education_level</th>\n",
              "      <th>internet_quality</th>\n",
              "      <th>mental_health_rating</th>\n",
              "      <th>extracurricular_participation</th>\n",
              "      <th>exam_score</th>\n",
              "    </tr>\n",
              "  </thead>\n",
              "  <tbody>\n",
              "    <tr>\n",
              "      <th>0</th>\n",
              "      <td>23</td>\n",
              "      <td>Female</td>\n",
              "      <td>0.0</td>\n",
              "      <td>1.2</td>\n",
              "      <td>1.1</td>\n",
              "      <td>No</td>\n",
              "      <td>85.0</td>\n",
              "      <td>8.0</td>\n",
              "      <td>Fair</td>\n",
              "      <td>6</td>\n",
              "      <td>Master</td>\n",
              "      <td>Average</td>\n",
              "      <td>8</td>\n",
              "      <td>Yes</td>\n",
              "      <td>56.2</td>\n",
              "    </tr>\n",
              "    <tr>\n",
              "      <th>1</th>\n",
              "      <td>20</td>\n",
              "      <td>Female</td>\n",
              "      <td>6.9</td>\n",
              "      <td>2.8</td>\n",
              "      <td>2.3</td>\n",
              "      <td>No</td>\n",
              "      <td>97.3</td>\n",
              "      <td>4.6</td>\n",
              "      <td>Good</td>\n",
              "      <td>6</td>\n",
              "      <td>High School</td>\n",
              "      <td>Average</td>\n",
              "      <td>8</td>\n",
              "      <td>No</td>\n",
              "      <td>100.0</td>\n",
              "    </tr>\n",
              "    <tr>\n",
              "      <th>2</th>\n",
              "      <td>21</td>\n",
              "      <td>Male</td>\n",
              "      <td>1.4</td>\n",
              "      <td>3.1</td>\n",
              "      <td>1.3</td>\n",
              "      <td>No</td>\n",
              "      <td>94.8</td>\n",
              "      <td>8.0</td>\n",
              "      <td>Poor</td>\n",
              "      <td>1</td>\n",
              "      <td>High School</td>\n",
              "      <td>Poor</td>\n",
              "      <td>1</td>\n",
              "      <td>No</td>\n",
              "      <td>34.3</td>\n",
              "    </tr>\n",
              "    <tr>\n",
              "      <th>3</th>\n",
              "      <td>23</td>\n",
              "      <td>Female</td>\n",
              "      <td>1.0</td>\n",
              "      <td>3.9</td>\n",
              "      <td>1.0</td>\n",
              "      <td>No</td>\n",
              "      <td>71.0</td>\n",
              "      <td>9.2</td>\n",
              "      <td>Poor</td>\n",
              "      <td>4</td>\n",
              "      <td>Master</td>\n",
              "      <td>Good</td>\n",
              "      <td>1</td>\n",
              "      <td>Yes</td>\n",
              "      <td>26.8</td>\n",
              "    </tr>\n",
              "    <tr>\n",
              "      <th>4</th>\n",
              "      <td>19</td>\n",
              "      <td>Female</td>\n",
              "      <td>5.0</td>\n",
              "      <td>4.4</td>\n",
              "      <td>0.5</td>\n",
              "      <td>No</td>\n",
              "      <td>90.9</td>\n",
              "      <td>4.9</td>\n",
              "      <td>Fair</td>\n",
              "      <td>3</td>\n",
              "      <td>Master</td>\n",
              "      <td>Good</td>\n",
              "      <td>1</td>\n",
              "      <td>No</td>\n",
              "      <td>66.4</td>\n",
              "    </tr>\n",
              "  </tbody>\n",
              "</table>\n",
              "</div>"
            ],
            "text/plain": [
              "   age  gender  study_hours_per_day  social_media_hours  netflix_hours  \\\n",
              "0   23  Female                  0.0                 1.2            1.1   \n",
              "1   20  Female                  6.9                 2.8            2.3   \n",
              "2   21    Male                  1.4                 3.1            1.3   \n",
              "3   23  Female                  1.0                 3.9            1.0   \n",
              "4   19  Female                  5.0                 4.4            0.5   \n",
              "\n",
              "  part_time_job  attendance_percentage  sleep_hours diet_quality  \\\n",
              "0            No                   85.0          8.0         Fair   \n",
              "1            No                   97.3          4.6         Good   \n",
              "2            No                   94.8          8.0         Poor   \n",
              "3            No                   71.0          9.2         Poor   \n",
              "4            No                   90.9          4.9         Fair   \n",
              "\n",
              "   exercise_frequency parental_education_level internet_quality  \\\n",
              "0                   6                   Master          Average   \n",
              "1                   6              High School          Average   \n",
              "2                   1              High School             Poor   \n",
              "3                   4                   Master             Good   \n",
              "4                   3                   Master             Good   \n",
              "\n",
              "   mental_health_rating extracurricular_participation  exam_score  \n",
              "0                     8                           Yes        56.2  \n",
              "1                     8                            No       100.0  \n",
              "2                     1                            No        34.3  \n",
              "3                     1                           Yes        26.8  \n",
              "4                     1                            No        66.4  "
            ]
          },
          "execution_count": 10,
          "metadata": {},
          "output_type": "execute_result"
        }
      ],
      "source": [
        "df.head()"
      ]
    },
    {
      "cell_type": "code",
      "execution_count": 11,
      "metadata": {
        "colab": {
          "base_uri": "https://localhost:8080/"
        },
        "id": "QpHRJtqj80R2",
        "outputId": "b744290c-c468-4e02-9e47-756e3c5b653d"
      },
      "outputs": [
        {
          "data": {
            "text/plain": [
              "['age',\n",
              " 'study_hours_per_day',\n",
              " 'social_media_hours',\n",
              " 'netflix_hours',\n",
              " 'attendance_percentage',\n",
              " 'sleep_hours',\n",
              " 'exercise_frequency',\n",
              " 'mental_health_rating',\n",
              " 'exam_score']"
            ]
          },
          "execution_count": 11,
          "metadata": {},
          "output_type": "execute_result"
        }
      ],
      "source": [
        "numeric_columns = df.select_dtypes(include = ['int64', 'float64']).columns.tolist()\n",
        "numeric_columns"
      ]
    },
    {
      "cell_type": "code",
      "execution_count": 12,
      "metadata": {
        "colab": {
          "base_uri": "https://localhost:8080/"
        },
        "id": "lzuyMg-FATjU",
        "outputId": "e172e0b5-fb30-45a4-aeaa-bb599a9235ae"
      },
      "outputs": [
        {
          "data": {
            "text/plain": [
              "['gender',\n",
              " 'part_time_job',\n",
              " 'diet_quality',\n",
              " 'parental_education_level',\n",
              " 'internet_quality',\n",
              " 'extracurricular_participation']"
            ]
          },
          "execution_count": 12,
          "metadata": {},
          "output_type": "execute_result"
        }
      ],
      "source": [
        "categorical_columns = df.select_dtypes(include = ['object']).columns.tolist()\n",
        "categorical_columns"
      ]
    },
    {
      "cell_type": "code",
      "execution_count": 13,
      "metadata": {},
      "outputs": [
        {
          "name": "stderr",
          "output_type": "stream",
          "text": [
            "C:\\Users\\Saidul Islam\\AppData\\Local\\Temp\\ipykernel_11048\\1340292815.py:1: FutureWarning: Downcasting behavior in `replace` is deprecated and will be removed in a future version. To retain the old behavior, explicitly call `result.infer_objects(copy=False)`. To opt-in to the future behavior, set `pd.set_option('future.no_silent_downcasting', True)`\n",
            "  df['extracurricular_participation']=df['extracurricular_participation'].replace({'Yes': 1,'No': 0})\n"
          ]
        },
        {
          "data": {
            "text/plain": [
              "0    1\n",
              "1    0\n",
              "2    0\n",
              "3    1\n",
              "4    0\n",
              "Name: extracurricular_participation, dtype: int64"
            ]
          },
          "execution_count": 13,
          "metadata": {},
          "output_type": "execute_result"
        }
      ],
      "source": [
        "df['extracurricular_participation']=df['extracurricular_participation'].replace({'Yes': 1,'No': 0})\n",
        "df['extracurricular_participation'].head()"
      ]
    },
    {
      "cell_type": "code",
      "execution_count": 14,
      "metadata": {},
      "outputs": [
        {
          "name": "stderr",
          "output_type": "stream",
          "text": [
            "C:\\Users\\Saidul Islam\\AppData\\Local\\Temp\\ipykernel_11048\\1785862925.py:1: FutureWarning: Downcasting behavior in `replace` is deprecated and will be removed in a future version. To retain the old behavior, explicitly call `result.infer_objects(copy=False)`. To opt-in to the future behavior, set `pd.set_option('future.no_silent_downcasting', True)`\n",
            "  df['part_time_job']=df['part_time_job'].replace({'Yes': 1, 'No': 0})\n"
          ]
        },
        {
          "data": {
            "text/plain": [
              "0    0\n",
              "1    0\n",
              "2    0\n",
              "3    0\n",
              "4    0\n",
              "Name: part_time_job, dtype: int64"
            ]
          },
          "execution_count": 14,
          "metadata": {},
          "output_type": "execute_result"
        }
      ],
      "source": [
        "df['part_time_job']=df['part_time_job'].replace({'Yes': 1, 'No': 0})\n",
        "df['part_time_job'].head()"
      ]
    },
    {
      "cell_type": "code",
      "execution_count": 15,
      "metadata": {},
      "outputs": [
        {
          "data": {
            "text/plain": [
              "0    0\n",
              "1    0\n",
              "2    1\n",
              "3    0\n",
              "4    0\n",
              "Name: gender, dtype: object"
            ]
          },
          "execution_count": 15,
          "metadata": {},
          "output_type": "execute_result"
        }
      ],
      "source": [
        "df['gender']=df['gender'].replace({'Male': 1, 'Female': 0})\n",
        "df['gender'].head()"
      ]
    },
    {
      "cell_type": "markdown",
      "metadata": {
        "id": "uwwbcKWtAk9r"
      },
      "source": [
        "# ***Descriptive Statistics***\n"
      ]
    },
    {
      "cell_type": "code",
      "execution_count": 16,
      "metadata": {
        "colab": {
          "base_uri": "https://localhost:8080/",
          "height": 300
        },
        "id": "wuLdLLH93Zni",
        "outputId": "2a1605b0-4eb8-463c-c46e-a649bc1fc196"
      },
      "outputs": [
        {
          "data": {
            "text/html": [
              "<div>\n",
              "<style scoped>\n",
              "    .dataframe tbody tr th:only-of-type {\n",
              "        vertical-align: middle;\n",
              "    }\n",
              "\n",
              "    .dataframe tbody tr th {\n",
              "        vertical-align: top;\n",
              "    }\n",
              "\n",
              "    .dataframe thead th {\n",
              "        text-align: right;\n",
              "    }\n",
              "</style>\n",
              "<table border=\"1\" class=\"dataframe\">\n",
              "  <thead>\n",
              "    <tr style=\"text-align: right;\">\n",
              "      <th></th>\n",
              "      <th>age</th>\n",
              "      <th>study_hours_per_day</th>\n",
              "      <th>social_media_hours</th>\n",
              "      <th>netflix_hours</th>\n",
              "      <th>part_time_job</th>\n",
              "      <th>attendance_percentage</th>\n",
              "      <th>sleep_hours</th>\n",
              "      <th>exercise_frequency</th>\n",
              "      <th>mental_health_rating</th>\n",
              "      <th>extracurricular_participation</th>\n",
              "      <th>exam_score</th>\n",
              "    </tr>\n",
              "  </thead>\n",
              "  <tbody>\n",
              "    <tr>\n",
              "      <th>count</th>\n",
              "      <td>1000.0000</td>\n",
              "      <td>1000.00000</td>\n",
              "      <td>1000.000000</td>\n",
              "      <td>1000.000000</td>\n",
              "      <td>1000.000000</td>\n",
              "      <td>1000.000000</td>\n",
              "      <td>1000.000000</td>\n",
              "      <td>1000.000000</td>\n",
              "      <td>1000.000000</td>\n",
              "      <td>1000.000000</td>\n",
              "      <td>1000.000000</td>\n",
              "    </tr>\n",
              "    <tr>\n",
              "      <th>mean</th>\n",
              "      <td>20.4980</td>\n",
              "      <td>3.55010</td>\n",
              "      <td>2.505500</td>\n",
              "      <td>1.819700</td>\n",
              "      <td>0.215000</td>\n",
              "      <td>84.131700</td>\n",
              "      <td>6.470100</td>\n",
              "      <td>3.042000</td>\n",
              "      <td>5.438000</td>\n",
              "      <td>0.318000</td>\n",
              "      <td>69.601500</td>\n",
              "    </tr>\n",
              "    <tr>\n",
              "      <th>std</th>\n",
              "      <td>2.3081</td>\n",
              "      <td>1.46889</td>\n",
              "      <td>1.172422</td>\n",
              "      <td>1.075118</td>\n",
              "      <td>0.411028</td>\n",
              "      <td>9.399246</td>\n",
              "      <td>1.226377</td>\n",
              "      <td>2.025423</td>\n",
              "      <td>2.847501</td>\n",
              "      <td>0.465932</td>\n",
              "      <td>16.888564</td>\n",
              "    </tr>\n",
              "    <tr>\n",
              "      <th>min</th>\n",
              "      <td>17.0000</td>\n",
              "      <td>0.00000</td>\n",
              "      <td>0.000000</td>\n",
              "      <td>0.000000</td>\n",
              "      <td>0.000000</td>\n",
              "      <td>56.000000</td>\n",
              "      <td>3.200000</td>\n",
              "      <td>0.000000</td>\n",
              "      <td>1.000000</td>\n",
              "      <td>0.000000</td>\n",
              "      <td>18.400000</td>\n",
              "    </tr>\n",
              "    <tr>\n",
              "      <th>25%</th>\n",
              "      <td>18.7500</td>\n",
              "      <td>2.60000</td>\n",
              "      <td>1.700000</td>\n",
              "      <td>1.000000</td>\n",
              "      <td>0.000000</td>\n",
              "      <td>78.000000</td>\n",
              "      <td>5.600000</td>\n",
              "      <td>1.000000</td>\n",
              "      <td>3.000000</td>\n",
              "      <td>0.000000</td>\n",
              "      <td>58.475000</td>\n",
              "    </tr>\n",
              "    <tr>\n",
              "      <th>50%</th>\n",
              "      <td>20.0000</td>\n",
              "      <td>3.50000</td>\n",
              "      <td>2.500000</td>\n",
              "      <td>1.800000</td>\n",
              "      <td>0.000000</td>\n",
              "      <td>84.400000</td>\n",
              "      <td>6.500000</td>\n",
              "      <td>3.000000</td>\n",
              "      <td>5.000000</td>\n",
              "      <td>0.000000</td>\n",
              "      <td>70.500000</td>\n",
              "    </tr>\n",
              "    <tr>\n",
              "      <th>75%</th>\n",
              "      <td>23.0000</td>\n",
              "      <td>4.50000</td>\n",
              "      <td>3.300000</td>\n",
              "      <td>2.525000</td>\n",
              "      <td>0.000000</td>\n",
              "      <td>91.025000</td>\n",
              "      <td>7.300000</td>\n",
              "      <td>5.000000</td>\n",
              "      <td>8.000000</td>\n",
              "      <td>1.000000</td>\n",
              "      <td>81.325000</td>\n",
              "    </tr>\n",
              "    <tr>\n",
              "      <th>max</th>\n",
              "      <td>24.0000</td>\n",
              "      <td>8.30000</td>\n",
              "      <td>7.200000</td>\n",
              "      <td>5.400000</td>\n",
              "      <td>1.000000</td>\n",
              "      <td>100.000000</td>\n",
              "      <td>10.000000</td>\n",
              "      <td>6.000000</td>\n",
              "      <td>10.000000</td>\n",
              "      <td>1.000000</td>\n",
              "      <td>100.000000</td>\n",
              "    </tr>\n",
              "  </tbody>\n",
              "</table>\n",
              "</div>"
            ],
            "text/plain": [
              "             age  study_hours_per_day  social_media_hours  netflix_hours  \\\n",
              "count  1000.0000           1000.00000         1000.000000    1000.000000   \n",
              "mean     20.4980              3.55010            2.505500       1.819700   \n",
              "std       2.3081              1.46889            1.172422       1.075118   \n",
              "min      17.0000              0.00000            0.000000       0.000000   \n",
              "25%      18.7500              2.60000            1.700000       1.000000   \n",
              "50%      20.0000              3.50000            2.500000       1.800000   \n",
              "75%      23.0000              4.50000            3.300000       2.525000   \n",
              "max      24.0000              8.30000            7.200000       5.400000   \n",
              "\n",
              "       part_time_job  attendance_percentage  sleep_hours  exercise_frequency  \\\n",
              "count    1000.000000            1000.000000  1000.000000         1000.000000   \n",
              "mean        0.215000              84.131700     6.470100            3.042000   \n",
              "std         0.411028               9.399246     1.226377            2.025423   \n",
              "min         0.000000              56.000000     3.200000            0.000000   \n",
              "25%         0.000000              78.000000     5.600000            1.000000   \n",
              "50%         0.000000              84.400000     6.500000            3.000000   \n",
              "75%         0.000000              91.025000     7.300000            5.000000   \n",
              "max         1.000000             100.000000    10.000000            6.000000   \n",
              "\n",
              "       mental_health_rating  extracurricular_participation   exam_score  \n",
              "count           1000.000000                    1000.000000  1000.000000  \n",
              "mean               5.438000                       0.318000    69.601500  \n",
              "std                2.847501                       0.465932    16.888564  \n",
              "min                1.000000                       0.000000    18.400000  \n",
              "25%                3.000000                       0.000000    58.475000  \n",
              "50%                5.000000                       0.000000    70.500000  \n",
              "75%                8.000000                       1.000000    81.325000  \n",
              "max               10.000000                       1.000000   100.000000  "
            ]
          },
          "execution_count": 16,
          "metadata": {},
          "output_type": "execute_result"
        }
      ],
      "source": [
        "df.describe()"
      ]
    },
    {
      "cell_type": "code",
      "execution_count": 17,
      "metadata": {
        "colab": {
          "base_uri": "https://localhost:8080/",
          "height": 210
        },
        "id": "jbZT3FdYA-eL",
        "outputId": "1c4b4ce5-2f6f-48eb-fe54-5e92792e4b20"
      },
      "outputs": [
        {
          "data": {
            "text/plain": [
              "gender\n",
              "0        481\n",
              "1        477\n",
              "Other     42\n",
              "Name: count, dtype: int64"
            ]
          },
          "execution_count": 17,
          "metadata": {},
          "output_type": "execute_result"
        }
      ],
      "source": [
        "df['gender'].value_counts()"
      ]
    },
    {
      "cell_type": "code",
      "execution_count": 18,
      "metadata": {
        "colab": {
          "base_uri": "https://localhost:8080/",
          "height": 178
        },
        "id": "vHyb5jM3Btrb",
        "outputId": "84cc8dd4-b5e7-4833-e7eb-cffda6828ca1"
      },
      "outputs": [
        {
          "data": {
            "text/plain": [
              "part_time_job\n",
              "0    785\n",
              "1    215\n",
              "Name: count, dtype: int64"
            ]
          },
          "execution_count": 18,
          "metadata": {},
          "output_type": "execute_result"
        }
      ],
      "source": [
        "df['part_time_job'].value_counts()"
      ]
    },
    {
      "cell_type": "code",
      "execution_count": 19,
      "metadata": {
        "colab": {
          "base_uri": "https://localhost:8080/",
          "height": 210
        },
        "id": "ZwjMLStTB0Ob",
        "outputId": "f8c49fc6-50d1-4070-aceb-ac29f2b48fc5"
      },
      "outputs": [
        {
          "data": {
            "text/plain": [
              "diet_quality\n",
              "Fair    437\n",
              "Good    378\n",
              "Poor    185\n",
              "Name: count, dtype: int64"
            ]
          },
          "execution_count": 19,
          "metadata": {},
          "output_type": "execute_result"
        }
      ],
      "source": [
        "df['diet_quality'].value_counts()"
      ]
    },
    {
      "cell_type": "code",
      "execution_count": 20,
      "metadata": {
        "colab": {
          "base_uri": "https://localhost:8080/",
          "height": 241
        },
        "id": "QGd8tZ5iB5h7",
        "outputId": "69402eba-e96f-41eb-da06-fd10fcd37090"
      },
      "outputs": [
        {
          "data": {
            "text/plain": [
              "parental_education_level\n",
              "High School    392\n",
              "Bachelor       350\n",
              "Master         167\n",
              "Uneducated      91\n",
              "Name: count, dtype: int64"
            ]
          },
          "execution_count": 20,
          "metadata": {},
          "output_type": "execute_result"
        }
      ],
      "source": [
        "df['parental_education_level'].value_counts()"
      ]
    },
    {
      "cell_type": "code",
      "execution_count": 21,
      "metadata": {},
      "outputs": [
        {
          "name": "stdout",
          "output_type": "stream",
          "text": [
            "Education concerned parents =  51.7 %\n",
            "Education unconcerned parents 48.3 %\n"
          ]
        }
      ],
      "source": [
        "count = ((df['parental_education_level'] == 'Bachelor') | \n",
        "        (df['parental_education_level'] == 'Master')).sum()\n",
        "\n",
        "total = df['parental_education_level'].count()\n",
        "\n",
        "education_concerned_parents = (count / total) * 100\n",
        "print(f'Education concerned parents = ', education_concerned_parents, f'%')\n",
        "\n",
        "education_unconcerned_parents = ((total - count) / total) * 100\n",
        "print(f'Education unconcerned parents', education_unconcerned_parents, f'%')\n"
      ]
    },
    {
      "cell_type": "code",
      "execution_count": 22,
      "metadata": {
        "colab": {
          "base_uri": "https://localhost:8080/",
          "height": 210
        },
        "id": "7UocTnLzCePK",
        "outputId": "e10683e3-c77b-43dd-9cd1-56dddc9306cd"
      },
      "outputs": [
        {
          "data": {
            "text/plain": [
              "internet_quality\n",
              "Good       447\n",
              "Average    391\n",
              "Poor       162\n",
              "Name: count, dtype: int64"
            ]
          },
          "execution_count": 22,
          "metadata": {},
          "output_type": "execute_result"
        }
      ],
      "source": [
        "df['internet_quality'].value_counts()"
      ]
    },
    {
      "cell_type": "code",
      "execution_count": 23,
      "metadata": {
        "colab": {
          "base_uri": "https://localhost:8080/",
          "height": 178
        },
        "id": "jMW7O98CCh1K",
        "outputId": "692f9a8c-7900-45ec-f371-3066bc6b2e57"
      },
      "outputs": [
        {
          "data": {
            "text/plain": [
              "extracurricular_participation\n",
              "0    682\n",
              "1    318\n",
              "Name: count, dtype: int64"
            ]
          },
          "execution_count": 23,
          "metadata": {},
          "output_type": "execute_result"
        }
      ],
      "source": [
        "df['extracurricular_participation'].value_counts()"
      ]
    },
    {
      "cell_type": "markdown",
      "metadata": {
        "id": "YamrV1EQFCEi"
      },
      "source": [
        "# ***Exploratory Data Analysis***"
      ]
    },
    {
      "cell_type": "code",
      "execution_count": null,
      "metadata": {
        "colab": {
          "base_uri": "https://localhost:8080/",
          "height": 241
        },
        "id": "s9mZoVSVFMYa",
        "outputId": "fea99d14-3586-4f0e-e296-0760a76da33b"
      },
      "outputs": [
        {
          "data": {
            "text/plain": [
              "0     B\n",
              "1    A+\n",
              "2     D\n",
              "3     F\n",
              "4    A-\n",
              "Name: grades, dtype: category\n",
              "Categories (7, object): ['F' < 'D' < 'C' < 'B' < 'A-' < 'A' < 'A+']"
            ]
          },
          "execution_count": 27,
          "metadata": {},
          "output_type": "execute_result"
        }
      ],
      "source": [
        "bins = [0, 33, 40, 50, 60, 70, 80, 100]\n",
        "labels = ['F', 'D', 'C', 'B', 'A-','A', 'A+']\n",
        "df['grades'] =pd.cut(df['exam_score'], bins = bins , labels = labels)\n",
        "df['grades'].head()"
      ]
    },
    {
      "cell_type": "code",
      "execution_count": null,
      "metadata": {
        "id": "pgBbuyjeHXgH"
      },
      "outputs": [],
      "source": [
        "df['productive_hours'] = df['study_hours_per_day'] + df['sleep_hours']\n",
        "df['unproductive_hours'] = df['social_media_hours'] + df['netflix_hours']\n",
        "df.loc[df['part_time_job'] == 1, 'job_hours'] = 3\n",
        "df.loc[df['part_time_job'] == 0, 'job_hours'] = 0"
      ]
    },
    {
      "cell_type": "code",
      "execution_count": null,
      "metadata": {},
      "outputs": [
        {
          "data": {
            "text/plain": [
              "<bound method NDFrame.sample of 0      0.0\n",
              "1      0.0\n",
              "2      0.0\n",
              "3      0.0\n",
              "4      0.0\n",
              "      ... \n",
              "995    0.0\n",
              "996    3.0\n",
              "997    0.0\n",
              "998    3.0\n",
              "999    0.0\n",
              "Name: job_hours, Length: 1000, dtype: float64>"
            ]
          },
          "execution_count": 49,
          "metadata": {},
          "output_type": "execute_result"
        }
      ],
      "source": [
        "df['job_hours'].sample"
      ]
    },
    {
      "cell_type": "code",
      "execution_count": null,
      "metadata": {},
      "outputs": [],
      "source": [
        "df['percentage_of_prductivity'] = (df['productive_hours'] / 24) * 100\n",
        "df['percentage_of_unprductivity'] = (df['unproductive_hours'] / 24) * 100\n",
        "df['percentage_of_job_hours'] = (df['job_hours'] / 24) * 100"
      ]
    },
    {
      "cell_type": "code",
      "execution_count": null,
      "metadata": {},
      "outputs": [
        {
          "data": {
            "text/plain": [
              "0    33.333333\n",
              "1    47.916667\n",
              "2    39.166667\n",
              "3    42.500000\n",
              "4    41.250000\n",
              "Name: percentage_of_prductivity, dtype: float64"
            ]
          },
          "execution_count": 52,
          "metadata": {},
          "output_type": "execute_result"
        }
      ],
      "source": [
        "df['percentage_of_prductivity'].head()"
      ]
    },
    {
      "cell_type": "code",
      "execution_count": null,
      "metadata": {},
      "outputs": [
        {
          "data": {
            "text/plain": [
              "0     9.583333\n",
              "1    21.250000\n",
              "2    18.333333\n",
              "3    20.416667\n",
              "4    20.416667\n",
              "Name: percentage_of_unprductivity, dtype: float64"
            ]
          },
          "execution_count": 53,
          "metadata": {},
          "output_type": "execute_result"
        }
      ],
      "source": [
        "df['percentage_of_unprductivity'].head()"
      ]
    },
    {
      "cell_type": "code",
      "execution_count": null,
      "metadata": {},
      "outputs": [
        {
          "data": {
            "text/plain": [
              "0    0.0\n",
              "1    0.0\n",
              "2    0.0\n",
              "3    0.0\n",
              "4    0.0\n",
              "Name: percentage_of_job_hours, dtype: float64"
            ]
          },
          "execution_count": 54,
          "metadata": {},
          "output_type": "execute_result"
        }
      ],
      "source": [
        "df['percentage_of_job_hours'].head()"
      ]
    },
    {
      "cell_type": "code",
      "execution_count": null,
      "metadata": {},
      "outputs": [
        {
          "data": {
            "text/html": [
              "<div>\n",
              "<style scoped>\n",
              "    .dataframe tbody tr th:only-of-type {\n",
              "        vertical-align: middle;\n",
              "    }\n",
              "\n",
              "    .dataframe tbody tr th {\n",
              "        vertical-align: top;\n",
              "    }\n",
              "\n",
              "    .dataframe thead th {\n",
              "        text-align: right;\n",
              "    }\n",
              "</style>\n",
              "<table border=\"1\" class=\"dataframe\">\n",
              "  <thead>\n",
              "    <tr style=\"text-align: right;\">\n",
              "      <th></th>\n",
              "      <th>age</th>\n",
              "      <th>gender</th>\n",
              "      <th>study_hours_per_day</th>\n",
              "      <th>social_media_hours</th>\n",
              "      <th>netflix_hours</th>\n",
              "      <th>part_time_job</th>\n",
              "      <th>attendance_percentage</th>\n",
              "      <th>sleep_hours</th>\n",
              "      <th>diet_quality</th>\n",
              "      <th>exercise_frequency</th>\n",
              "      <th>...</th>\n",
              "      <th>mental_health_rating</th>\n",
              "      <th>extracurricular_participation</th>\n",
              "      <th>exam_score</th>\n",
              "      <th>grades</th>\n",
              "      <th>productive_hours</th>\n",
              "      <th>unproductive_hours</th>\n",
              "      <th>job_hours</th>\n",
              "      <th>percentage_of_prductivity</th>\n",
              "      <th>percentage_of_unprductivity</th>\n",
              "      <th>percentage_of_job_hours</th>\n",
              "    </tr>\n",
              "  </thead>\n",
              "  <tbody>\n",
              "    <tr>\n",
              "      <th>0</th>\n",
              "      <td>23</td>\n",
              "      <td>0</td>\n",
              "      <td>0.0</td>\n",
              "      <td>1.2</td>\n",
              "      <td>1.1</td>\n",
              "      <td>0</td>\n",
              "      <td>85.0</td>\n",
              "      <td>8.0</td>\n",
              "      <td>Fair</td>\n",
              "      <td>6</td>\n",
              "      <td>...</td>\n",
              "      <td>8</td>\n",
              "      <td>1</td>\n",
              "      <td>56.2</td>\n",
              "      <td>B</td>\n",
              "      <td>8.0</td>\n",
              "      <td>2.3</td>\n",
              "      <td>0.0</td>\n",
              "      <td>33.333333</td>\n",
              "      <td>9.583333</td>\n",
              "      <td>0.0</td>\n",
              "    </tr>\n",
              "    <tr>\n",
              "      <th>1</th>\n",
              "      <td>20</td>\n",
              "      <td>0</td>\n",
              "      <td>6.9</td>\n",
              "      <td>2.8</td>\n",
              "      <td>2.3</td>\n",
              "      <td>0</td>\n",
              "      <td>97.3</td>\n",
              "      <td>4.6</td>\n",
              "      <td>Good</td>\n",
              "      <td>6</td>\n",
              "      <td>...</td>\n",
              "      <td>8</td>\n",
              "      <td>0</td>\n",
              "      <td>100.0</td>\n",
              "      <td>A+</td>\n",
              "      <td>11.5</td>\n",
              "      <td>5.1</td>\n",
              "      <td>0.0</td>\n",
              "      <td>47.916667</td>\n",
              "      <td>21.250000</td>\n",
              "      <td>0.0</td>\n",
              "    </tr>\n",
              "    <tr>\n",
              "      <th>2</th>\n",
              "      <td>21</td>\n",
              "      <td>1</td>\n",
              "      <td>1.4</td>\n",
              "      <td>3.1</td>\n",
              "      <td>1.3</td>\n",
              "      <td>0</td>\n",
              "      <td>94.8</td>\n",
              "      <td>8.0</td>\n",
              "      <td>Poor</td>\n",
              "      <td>1</td>\n",
              "      <td>...</td>\n",
              "      <td>1</td>\n",
              "      <td>0</td>\n",
              "      <td>34.3</td>\n",
              "      <td>D</td>\n",
              "      <td>9.4</td>\n",
              "      <td>4.4</td>\n",
              "      <td>0.0</td>\n",
              "      <td>39.166667</td>\n",
              "      <td>18.333333</td>\n",
              "      <td>0.0</td>\n",
              "    </tr>\n",
              "    <tr>\n",
              "      <th>3</th>\n",
              "      <td>23</td>\n",
              "      <td>0</td>\n",
              "      <td>1.0</td>\n",
              "      <td>3.9</td>\n",
              "      <td>1.0</td>\n",
              "      <td>0</td>\n",
              "      <td>71.0</td>\n",
              "      <td>9.2</td>\n",
              "      <td>Poor</td>\n",
              "      <td>4</td>\n",
              "      <td>...</td>\n",
              "      <td>1</td>\n",
              "      <td>1</td>\n",
              "      <td>26.8</td>\n",
              "      <td>F</td>\n",
              "      <td>10.2</td>\n",
              "      <td>4.9</td>\n",
              "      <td>0.0</td>\n",
              "      <td>42.500000</td>\n",
              "      <td>20.416667</td>\n",
              "      <td>0.0</td>\n",
              "    </tr>\n",
              "    <tr>\n",
              "      <th>4</th>\n",
              "      <td>19</td>\n",
              "      <td>0</td>\n",
              "      <td>5.0</td>\n",
              "      <td>4.4</td>\n",
              "      <td>0.5</td>\n",
              "      <td>0</td>\n",
              "      <td>90.9</td>\n",
              "      <td>4.9</td>\n",
              "      <td>Fair</td>\n",
              "      <td>3</td>\n",
              "      <td>...</td>\n",
              "      <td>1</td>\n",
              "      <td>0</td>\n",
              "      <td>66.4</td>\n",
              "      <td>A-</td>\n",
              "      <td>9.9</td>\n",
              "      <td>4.9</td>\n",
              "      <td>0.0</td>\n",
              "      <td>41.250000</td>\n",
              "      <td>20.416667</td>\n",
              "      <td>0.0</td>\n",
              "    </tr>\n",
              "  </tbody>\n",
              "</table>\n",
              "<p>5 rows × 22 columns</p>\n",
              "</div>"
            ],
            "text/plain": [
              "   age gender  study_hours_per_day  social_media_hours  netflix_hours  \\\n",
              "0   23      0                  0.0                 1.2            1.1   \n",
              "1   20      0                  6.9                 2.8            2.3   \n",
              "2   21      1                  1.4                 3.1            1.3   \n",
              "3   23      0                  1.0                 3.9            1.0   \n",
              "4   19      0                  5.0                 4.4            0.5   \n",
              "\n",
              "   part_time_job  attendance_percentage  sleep_hours diet_quality  \\\n",
              "0              0                   85.0          8.0         Fair   \n",
              "1              0                   97.3          4.6         Good   \n",
              "2              0                   94.8          8.0         Poor   \n",
              "3              0                   71.0          9.2         Poor   \n",
              "4              0                   90.9          4.9         Fair   \n",
              "\n",
              "   exercise_frequency  ... mental_health_rating extracurricular_participation  \\\n",
              "0                   6  ...                    8                             1   \n",
              "1                   6  ...                    8                             0   \n",
              "2                   1  ...                    1                             0   \n",
              "3                   4  ...                    1                             1   \n",
              "4                   3  ...                    1                             0   \n",
              "\n",
              "   exam_score  grades  productive_hours unproductive_hours  job_hours  \\\n",
              "0        56.2       B               8.0                2.3        0.0   \n",
              "1       100.0      A+              11.5                5.1        0.0   \n",
              "2        34.3       D               9.4                4.4        0.0   \n",
              "3        26.8       F              10.2                4.9        0.0   \n",
              "4        66.4      A-               9.9                4.9        0.0   \n",
              "\n",
              "   percentage_of_prductivity  percentage_of_unprductivity  \\\n",
              "0                  33.333333                     9.583333   \n",
              "1                  47.916667                    21.250000   \n",
              "2                  39.166667                    18.333333   \n",
              "3                  42.500000                    20.416667   \n",
              "4                  41.250000                    20.416667   \n",
              "\n",
              "   percentage_of_job_hours  \n",
              "0                      0.0  \n",
              "1                      0.0  \n",
              "2                      0.0  \n",
              "3                      0.0  \n",
              "4                      0.0  \n",
              "\n",
              "[5 rows x 22 columns]"
            ]
          },
          "execution_count": 55,
          "metadata": {},
          "output_type": "execute_result"
        }
      ],
      "source": [
        "df.head()"
      ]
    },
    {
      "cell_type": "code",
      "execution_count": null,
      "metadata": {},
      "outputs": [],
      "source": [
        "import matplotlib.pyplot as plt\n",
        "import seaborn as sns"
      ]
    },
    {
      "cell_type": "code",
      "execution_count": null,
      "metadata": {},
      "outputs": [
        {
          "name": "stderr",
          "output_type": "stream",
          "text": [
            "C:\\Users\\Saidul Islam\\AppData\\Local\\Temp\\ipykernel_16188\\2325882032.py:6: FutureWarning:\n",
            "\n",
            "The default of observed=False is deprecated and will be changed to True in a future version of pandas. Pass observed=False to retain current behavior or observed=True to adopt the future default and silence this warning.\n",
            "\n",
            "C:\\Users\\Saidul Islam\\AppData\\Local\\Temp\\ipykernel_16188\\2325882032.py:7: FutureWarning:\n",
            "\n",
            "The default of observed=False is deprecated and will be changed to True in a future version of pandas. Pass observed=False to retain current behavior or observed=True to adopt the future default and silence this warning.\n",
            "\n"
          ]
        },
        {
          "data": {
            "application/vnd.plotly.v1+json": {
              "config": {
                "plotlyServerURL": "https://plot.ly"
              },
              "data": [
                {
                  "marker": {
                    "color": "blue"
                  },
                  "name": "Avg Productivity",
                  "type": "bar",
                  "x": [
                    "F",
                    "D",
                    "C",
                    "B",
                    "A-",
                    "A",
                    "A+"
                  ],
                  "xaxis": "x",
                  "y": [
                    27.61574074074074,
                    32.62152777777778,
                    34.51310861423221,
                    36.05960264900662,
                    40.44471153846154,
                    43.01103988603989,
                    48.83001207729469
                  ],
                  "yaxis": "y"
                },
                {
                  "marker": {
                    "color": "green"
                  },
                  "name": "Productivity Distribution",
                  "type": "box",
                  "x": [
                    "B",
                    "A+",
                    "D",
                    "F",
                    "A-",
                    "A+",
                    "A+",
                    "A",
                    "A",
                    "A+",
                    "A-",
                    "A",
                    "A",
                    "A",
                    "A",
                    "A",
                    "B",
                    "A",
                    "C",
                    "C",
                    "B",
                    "A+",
                    "A+",
                    "C",
                    "B",
                    "A-",
                    "A",
                    "A",
                    "A+",
                    "A",
                    "A",
                    "B",
                    "B",
                    "A",
                    "B",
                    "A",
                    "A",
                    "B",
                    "B",
                    "A+",
                    "A-",
                    "A-",
                    "A-",
                    "A-",
                    "A",
                    "A",
                    "A",
                    "B",
                    "B",
                    "A+",
                    "A-",
                    "B",
                    "C",
                    "A",
                    "A-",
                    "A+",
                    "A-",
                    "A",
                    "C",
                    "A+",
                    "A-",
                    "A",
                    "A+",
                    "A",
                    "A-",
                    "A-",
                    "A-",
                    "A-",
                    "A+",
                    "A+",
                    "B",
                    "B",
                    "A",
                    "A+",
                    "A-",
                    "A+",
                    "A+",
                    "B",
                    "A",
                    "A+",
                    "A",
                    "B",
                    "A-",
                    "B",
                    "B",
                    "B",
                    "A",
                    "C",
                    "A",
                    "C",
                    "A",
                    "A-",
                    "C",
                    "A",
                    "A+",
                    "B",
                    "A+",
                    "A+",
                    "A-",
                    "A-",
                    "A+",
                    "A",
                    "A-",
                    "B",
                    "A",
                    "F",
                    "A+",
                    "A-",
                    "B",
                    "A",
                    "A+",
                    "A",
                    "C",
                    "B",
                    "A+",
                    "A+",
                    "A+",
                    "A+",
                    "B",
                    "A-",
                    "A+",
                    "A-",
                    "A+",
                    "A",
                    "A-",
                    "C",
                    "C",
                    "A+",
                    "C",
                    "F",
                    "A+",
                    "A+",
                    "A",
                    "A",
                    "A",
                    "A",
                    "A-",
                    "A-",
                    "A-",
                    "A+",
                    "A-",
                    "A+",
                    "A-",
                    "A-",
                    "A",
                    "C",
                    "A",
                    "A",
                    "A+",
                    "A",
                    "A-",
                    "A-",
                    "A+",
                    "A+",
                    "A-",
                    "B",
                    "B",
                    "B",
                    "A-",
                    "A",
                    "A-",
                    "A",
                    "A+",
                    "A",
                    "A-",
                    "D",
                    "A-",
                    "A",
                    "B",
                    "A-",
                    "A+",
                    "A+",
                    "A-",
                    "A+",
                    "A-",
                    "A-",
                    "A",
                    "B",
                    "A-",
                    "B",
                    "A-",
                    "A-",
                    "A",
                    "A+",
                    "A+",
                    "C",
                    "B",
                    "A",
                    "C",
                    "A-",
                    "B",
                    "C",
                    "A-",
                    "A+",
                    "A-",
                    "F",
                    "A-",
                    "A+",
                    "C",
                    "A-",
                    "A+",
                    "A+",
                    "A+",
                    "B",
                    "A",
                    "B",
                    "A+",
                    "A-",
                    "A",
                    "C",
                    "A-",
                    "A+",
                    "F",
                    "C",
                    "A+",
                    "A-",
                    "A-",
                    "A+",
                    "C",
                    "A+",
                    "A+",
                    "A-",
                    "A+",
                    "C",
                    "A",
                    "A",
                    "A+",
                    "A+",
                    "A",
                    "B",
                    "A+",
                    "A",
                    "A+",
                    "A+",
                    "A-",
                    "A",
                    "C",
                    "B",
                    "A",
                    "B",
                    "B",
                    "A-",
                    "A+",
                    "A+",
                    "A+",
                    "C",
                    "B",
                    "A+",
                    "B",
                    "B",
                    "A+",
                    "A-",
                    "A+",
                    "A+",
                    "A",
                    "A+",
                    "A-",
                    "A",
                    "A+",
                    "A",
                    "A",
                    "A-",
                    "C",
                    "A-",
                    "B",
                    "F",
                    "A+",
                    "B",
                    "A",
                    "A+",
                    "A-",
                    "A",
                    "A",
                    "C",
                    "B",
                    "A",
                    "A-",
                    "A",
                    "A+",
                    "A+",
                    "A",
                    "A+",
                    "A",
                    "C",
                    "A+",
                    "A-",
                    "C",
                    "A+",
                    "A+",
                    "A",
                    "A",
                    "A+",
                    "A",
                    "A+",
                    "A+",
                    "F",
                    "A+",
                    "A-",
                    "A+",
                    "A+",
                    "A-",
                    "C",
                    "A",
                    "A-",
                    "D",
                    "A+",
                    "A+",
                    "A",
                    "A-",
                    "A",
                    "A+",
                    "A-",
                    "A",
                    "A+",
                    "C",
                    "A+",
                    "A",
                    "A+",
                    "A-",
                    "B",
                    "A+",
                    "A-",
                    "A+",
                    "A",
                    "A+",
                    "A",
                    "C",
                    "F",
                    "B",
                    "A+",
                    "B",
                    "A+",
                    "A",
                    "A",
                    "A+",
                    "A+",
                    "A+",
                    "A+",
                    "A-",
                    "A",
                    "A+",
                    "C",
                    "B",
                    "A+",
                    "A+",
                    "A",
                    "A",
                    "A",
                    "A",
                    "A+",
                    "B",
                    "A",
                    "C",
                    "C",
                    "C",
                    "A+",
                    "A+",
                    "A+",
                    "B",
                    "A+",
                    "A+",
                    "A+",
                    "A-",
                    "B",
                    "C",
                    "A",
                    "A+",
                    "A+",
                    "A",
                    "A",
                    "B",
                    "D",
                    "A-",
                    "A",
                    "B",
                    "B",
                    "A-",
                    "A-",
                    "A-",
                    "F",
                    "A-",
                    "A+",
                    "A+",
                    "A",
                    "B",
                    "A-",
                    "C",
                    "A+",
                    "A",
                    "A",
                    "A",
                    "A",
                    "C",
                    "B",
                    "A+",
                    "A",
                    "A+",
                    "A",
                    "A-",
                    "B",
                    "A-",
                    "C",
                    "B",
                    "A",
                    "A+",
                    "A-",
                    "A+",
                    "A-",
                    "D",
                    "B",
                    "A",
                    "B",
                    "A",
                    "A-",
                    "A",
                    "A-",
                    "C",
                    "A+",
                    "B",
                    "B",
                    "A",
                    "A+",
                    "F",
                    "B",
                    "A",
                    "A",
                    "A+",
                    "A",
                    "B",
                    "A-",
                    "D",
                    "F",
                    "A",
                    "A+",
                    "F",
                    "B",
                    "A",
                    "A+",
                    "A-",
                    "A-",
                    "A",
                    "A+",
                    "A-",
                    "A-",
                    "A-",
                    "A-",
                    "B",
                    "A+",
                    "A+",
                    "A",
                    "A-",
                    "B",
                    "A+",
                    "A-",
                    "C",
                    "A+",
                    "A-",
                    "B",
                    "B",
                    "A",
                    "A",
                    "C",
                    "A+",
                    "C",
                    "A+",
                    "A+",
                    "B",
                    "A+",
                    "A-",
                    "A+",
                    "A-",
                    "D",
                    "B",
                    "A+",
                    "B",
                    "B",
                    "D",
                    "A+",
                    "A+",
                    "C",
                    "B",
                    "A+",
                    "A-",
                    "A",
                    "B",
                    "A",
                    "A-",
                    "A+",
                    "A+",
                    "A+",
                    "A-",
                    "B",
                    "A-",
                    "A",
                    "A-",
                    "C",
                    "A",
                    "A+",
                    "A",
                    "A+",
                    "A+",
                    "A",
                    "D",
                    "A-",
                    "A",
                    "A",
                    "B",
                    "B",
                    "A",
                    "A-",
                    "B",
                    "A-",
                    "A-",
                    "A-",
                    "A+",
                    "A+",
                    "A+",
                    "A+",
                    "A",
                    "A",
                    "A-",
                    "A-",
                    "C",
                    "A-",
                    "D",
                    "A+",
                    "C",
                    "A+",
                    "A",
                    "A-",
                    "A+",
                    "C",
                    "A+",
                    "B",
                    "A+",
                    "A+",
                    "C",
                    "B",
                    "A-",
                    "A+",
                    "A",
                    "A-",
                    "A",
                    "A",
                    "A+",
                    "B",
                    "A-",
                    "A+",
                    "A-",
                    "B",
                    "A+",
                    "A-",
                    "F",
                    "A+",
                    "B",
                    "A+",
                    "A",
                    "A-",
                    "A-",
                    "A",
                    "A",
                    "A-",
                    "A+",
                    "A",
                    "A-",
                    "A",
                    "A-",
                    "A+",
                    "A+",
                    "A+",
                    "A-",
                    "B",
                    "A-",
                    "A-",
                    "A+",
                    "C",
                    "A-",
                    "C",
                    "A",
                    "A+",
                    "A",
                    "A-",
                    "A-",
                    "A",
                    "B",
                    "A-",
                    "A+",
                    "A",
                    "A-",
                    "A",
                    "C",
                    "A-",
                    "A-",
                    "D",
                    "A+",
                    "A+",
                    "A-",
                    "A+",
                    "A+",
                    "A",
                    "A+",
                    "A+",
                    "A",
                    "D",
                    "A",
                    "A-",
                    "A+",
                    "B",
                    "A-",
                    "A",
                    "A-",
                    "A+",
                    "A-",
                    "A+",
                    "B",
                    "C",
                    "A",
                    "A",
                    "A-",
                    "C",
                    "D",
                    "A",
                    "D",
                    "A+",
                    "A+",
                    "C",
                    "A",
                    "A",
                    "A",
                    "A+",
                    "B",
                    "A+",
                    "A",
                    "A+",
                    "A",
                    "C",
                    "B",
                    "A",
                    "A+",
                    "A-",
                    "A+",
                    "A",
                    "B",
                    "C",
                    "D",
                    "C",
                    "A-",
                    "A+",
                    "B",
                    "A+",
                    "A-",
                    "A",
                    "A+",
                    "A+",
                    "A",
                    "B",
                    "D",
                    "A-",
                    "A",
                    "A",
                    "A",
                    "A-",
                    "A",
                    "A",
                    "A-",
                    "A",
                    "B",
                    "A+",
                    "A",
                    "A-",
                    "A+",
                    "A",
                    "A-",
                    "A+",
                    "A-",
                    "A+",
                    "D",
                    "A",
                    "B",
                    "A-",
                    "A",
                    "B",
                    "B",
                    "A",
                    "B",
                    "B",
                    "A-",
                    "A",
                    "A+",
                    "A",
                    "A",
                    "A+",
                    "D",
                    "A+",
                    "A+",
                    "A-",
                    "A+",
                    "A-",
                    "A",
                    "A",
                    "A-",
                    "A+",
                    "A+",
                    "D",
                    "A",
                    "B",
                    "A+",
                    "A+",
                    "B",
                    "B",
                    "B",
                    "A",
                    "A+",
                    "A+",
                    "A+",
                    "A+",
                    "A-",
                    "A-",
                    "C",
                    "A-",
                    "A+",
                    "A+",
                    "B",
                    "B",
                    "A",
                    "A-",
                    "A",
                    "B",
                    "B",
                    "A-",
                    "B",
                    "A-",
                    "A-",
                    "A",
                    "A",
                    "B",
                    "A",
                    "A",
                    "A",
                    "A",
                    "A",
                    "B",
                    "A",
                    "A",
                    "B",
                    "A",
                    "C",
                    "C",
                    "C",
                    "A",
                    "A+",
                    "A+",
                    "A",
                    "B",
                    "B",
                    "B",
                    "B",
                    "C",
                    "A",
                    "B",
                    "F",
                    "A",
                    "B",
                    "B",
                    "A+",
                    "C",
                    "F",
                    "A-",
                    "A",
                    "A+",
                    "B",
                    "A+",
                    "A",
                    "B",
                    "A+",
                    "D",
                    "A-",
                    "A+",
                    "A+",
                    "A+",
                    "A+",
                    "A-",
                    "B",
                    "A",
                    "A+",
                    "A-",
                    "A+",
                    "A-",
                    "A+",
                    "A",
                    "F",
                    "A+",
                    "B",
                    "C",
                    "A+",
                    "A+",
                    "D",
                    "A+",
                    "A+",
                    "A-",
                    "A+",
                    "A-",
                    "A+",
                    "A",
                    "B",
                    "A",
                    "C",
                    "A-",
                    "C",
                    "A+",
                    "A+",
                    "B",
                    "A",
                    "A-",
                    "A",
                    "C",
                    "A+",
                    "A+",
                    "C",
                    "A-",
                    "B",
                    "D",
                    "C",
                    "A+",
                    "A+",
                    "A+",
                    "A+",
                    "A+",
                    "B",
                    "A",
                    "A+",
                    "A",
                    "A+",
                    "A",
                    "A+",
                    "A+",
                    "B",
                    "A-",
                    "A-",
                    "A-",
                    "A",
                    "A-",
                    "A",
                    "A-",
                    "C",
                    "A",
                    "A",
                    "A",
                    "A",
                    "A+",
                    "C",
                    "A-",
                    "A",
                    "A-",
                    "A-",
                    "B",
                    "A+",
                    "C",
                    "A+",
                    "D",
                    "A-",
                    "A+",
                    "A+",
                    "C",
                    "B",
                    "A-",
                    "A+",
                    "A+",
                    "A",
                    "A",
                    "A-",
                    "A-",
                    "A",
                    "A+",
                    "A+",
                    "A+",
                    "A+",
                    "D",
                    "B",
                    "C",
                    "C",
                    "C",
                    "A-",
                    "A",
                    "C",
                    "A+",
                    "A-",
                    "A",
                    "A-",
                    "A-",
                    "A+",
                    "A-",
                    "C",
                    "A-",
                    "C",
                    "B",
                    "B",
                    "A",
                    "A",
                    "B",
                    "A+",
                    "A",
                    "A-",
                    "A",
                    "A",
                    "B",
                    "C",
                    "B",
                    "A+",
                    "A",
                    "A+",
                    "A+",
                    "A+",
                    "B",
                    "A",
                    "A-",
                    "A-",
                    "A",
                    "A",
                    "A",
                    "A",
                    "A+",
                    "C",
                    "B",
                    "B",
                    "B",
                    "B",
                    "C",
                    "A-",
                    "A+",
                    "A+",
                    "A-",
                    "A",
                    "C",
                    "A+",
                    "A-",
                    "A-",
                    "C",
                    "F",
                    "A",
                    "A-",
                    "A-",
                    "B",
                    "A",
                    "A-",
                    "A+",
                    "B",
                    "B",
                    "A-",
                    "A+",
                    "B",
                    "A+",
                    "A-",
                    "A-",
                    "A-",
                    "A+",
                    "B",
                    "C",
                    "F",
                    "C",
                    "A+",
                    "A+",
                    "B",
                    "B",
                    "A+",
                    "A",
                    "B",
                    "A",
                    "A",
                    "A+",
                    "A+",
                    "A-",
                    "A+",
                    "A",
                    "A",
                    "A-",
                    "A",
                    "A+",
                    "C",
                    "B",
                    "A+",
                    "A-",
                    "A+",
                    "A-",
                    "A+",
                    "A+",
                    "B",
                    "B",
                    "A",
                    "C",
                    "A-",
                    "A+",
                    "A",
                    "A",
                    "C",
                    "A",
                    "A-",
                    "A-",
                    "A-",
                    "A"
                  ],
                  "xaxis": "x2",
                  "y": [
                    33.33333333333333,
                    47.91666666666667,
                    39.166666666666664,
                    42.5,
                    41.25,
                    60.83333333333334,
                    50.416666666666664,
                    37.08333333333333,
                    47.91666666666667,
                    51.25000000000001,
                    43.33333333333333,
                    49.16666666666667,
                    34.166666666666664,
                    33.75,
                    37.916666666666664,
                    40,
                    27.499999999999996,
                    45.416666666666664,
                    37.916666666666664,
                    38.75,
                    42.5,
                    53.333333333333336,
                    45.416666666666664,
                    42.083333333333336,
                    31.25,
                    57.91666666666667,
                    35.41666666666667,
                    33.33333333333333,
                    51.66666666666666,
                    36.25,
                    46.666666666666664,
                    39.58333333333333,
                    39.58333333333333,
                    40.833333333333336,
                    36.66666666666667,
                    44.58333333333333,
                    45,
                    34.166666666666664,
                    45,
                    46.666666666666664,
                    50.83333333333333,
                    42.083333333333336,
                    43.75,
                    47.49999999999999,
                    37.083333333333336,
                    50,
                    47.083333333333336,
                    39.58333333333333,
                    40.833333333333336,
                    49.58333333333333,
                    29.583333333333332,
                    37.5,
                    39.166666666666664,
                    45,
                    42.5,
                    51.25000000000001,
                    32.5,
                    45.83333333333333,
                    40.416666666666664,
                    55.833333333333336,
                    40,
                    37.5,
                    48.333333333333336,
                    38.33333333333333,
                    35,
                    37.5,
                    37.5,
                    37.916666666666664,
                    46.25000000000001,
                    59.583333333333336,
                    36.66666666666667,
                    25,
                    47.083333333333336,
                    53.75,
                    36.25,
                    54.166666666666664,
                    52.916666666666664,
                    43.75,
                    47.91666666666667,
                    47.5,
                    50,
                    41.25,
                    37.083333333333336,
                    40.416666666666664,
                    38.75,
                    36.25,
                    54.58333333333333,
                    35.41666666666667,
                    41.66666666666667,
                    32.5,
                    49.16666666666667,
                    39.58333333333333,
                    19.166666666666664,
                    41.24999999999999,
                    40.833333333333336,
                    32.083333333333336,
                    54.58333333333333,
                    39.58333333333333,
                    30,
                    41.66666666666667,
                    49.16666666666667,
                    33.75,
                    49.16666666666667,
                    40,
                    47.49999999999999,
                    39.166666666666664,
                    51.66666666666666,
                    34.166666666666664,
                    37.5,
                    47.5,
                    48.333333333333336,
                    52.916666666666664,
                    28.33333333333334,
                    35.41666666666667,
                    56.25,
                    47.5,
                    54.58333333333333,
                    48.333333333333336,
                    44.58333333333333,
                    47.083333333333336,
                    42.91666666666667,
                    45.83333333333333,
                    59.583333333333336,
                    50.41666666666668,
                    37.08333333333333,
                    37.083333333333336,
                    28.333333333333332,
                    57.08333333333333,
                    35.41666666666667,
                    27.083333333333332,
                    40,
                    62.5,
                    45.83333333333333,
                    44.58333333333333,
                    45,
                    33.75,
                    48.33333333333334,
                    42.083333333333336,
                    51.66666666666667,
                    40,
                    31.25,
                    43.333333333333336,
                    33.75000000000001,
                    43.75,
                    52.916666666666664,
                    37.91666666666667,
                    47.91666666666667,
                    42.5,
                    47.91666666666667,
                    42.91666666666667,
                    40,
                    38.75,
                    51.66666666666666,
                    45,
                    45.416666666666664,
                    33.75,
                    34.166666666666664,
                    35.41666666666667,
                    38.33333333333333,
                    44.16666666666667,
                    36.25,
                    45.41666666666666,
                    42.5,
                    40.833333333333336,
                    39.166666666666664,
                    30.416666666666664,
                    30,
                    42.5,
                    29.583333333333332,
                    50.83333333333333,
                    62.91666666666668,
                    45,
                    42.91666666666667,
                    47.083333333333336,
                    47.5,
                    33.33333333333333,
                    40.416666666666664,
                    35.41666666666667,
                    38.33333333333333,
                    37.916666666666664,
                    46.666666666666664,
                    37.5,
                    47.5,
                    47.49999999999999,
                    47.083333333333336,
                    33.33333333333333,
                    23.333333333333332,
                    48.75,
                    40.41666666666667,
                    36.66666666666667,
                    40,
                    37.91666666666667,
                    40.833333333333336,
                    39.16666666666666,
                    39.58333333333333,
                    24.166666666666668,
                    47.49999999999999,
                    44.166666666666664,
                    28.333333333333332,
                    37.08333333333333,
                    47.083333333333336,
                    42.5,
                    42.91666666666667,
                    40,
                    46.666666666666664,
                    40.416666666666664,
                    41.66666666666667,
                    39.166666666666664,
                    41.66666666666667,
                    35,
                    40.833333333333336,
                    50.83333333333333,
                    25.416666666666664,
                    32.916666666666664,
                    60.416666666666664,
                    35.83333333333334,
                    33.75,
                    44.166666666666664,
                    41.66666666666667,
                    54.99999999999999,
                    45,
                    34.166666666666664,
                    55.41666666666667,
                    30,
                    47.083333333333336,
                    47.5,
                    43.75,
                    43.75,
                    49.583333333333336,
                    34.166666666666664,
                    50.41666666666668,
                    36.66666666666667,
                    53.333333333333336,
                    44.58333333333333,
                    35,
                    43.75,
                    31.25,
                    28.750000000000004,
                    50.83333333333333,
                    36.25,
                    34.166666666666664,
                    38.75,
                    57.08333333333333,
                    50.83333333333333,
                    52.916666666666664,
                    35.41666666666667,
                    24.16666666666667,
                    60.83333333333334,
                    39.166666666666664,
                    36.25,
                    52.083333333333336,
                    50.83333333333333,
                    44.58333333333333,
                    61.24999999999999,
                    42.91666666666667,
                    42.08333333333334,
                    38.75,
                    47.91666666666667,
                    37.5,
                    44.166666666666664,
                    37.916666666666664,
                    45.83333333333333,
                    37.916666666666664,
                    34.583333333333336,
                    32.08333333333333,
                    24.166666666666668,
                    66.25,
                    43.75,
                    34.583333333333336,
                    47.91666666666667,
                    41.66666666666667,
                    47.5,
                    46.666666666666664,
                    34.583333333333336,
                    45.416666666666664,
                    44.166666666666664,
                    37.5,
                    45,
                    40.00000000000001,
                    37.916666666666664,
                    45.83333333333333,
                    43.33333333333333,
                    41.66666666666667,
                    40.416666666666664,
                    50,
                    37.5,
                    37.91666666666667,
                    55.00000000000001,
                    52.083333333333336,
                    40,
                    36.66666666666667,
                    54.58333333333333,
                    47.5,
                    54.58333333333334,
                    46.25,
                    29.166666666666668,
                    45.41666666666666,
                    31.666666666666664,
                    48.33333333333334,
                    50.83333333333333,
                    37.5,
                    34.58333333333333,
                    36.66666666666667,
                    37.91666666666667,
                    36.66666666666667,
                    40.833333333333336,
                    58.75,
                    48.75,
                    31.25,
                    47.083333333333336,
                    51.66666666666666,
                    41.25,
                    32.5,
                    46.666666666666664,
                    33.75,
                    44.166666666666664,
                    54.166666666666664,
                    45.83333333333333,
                    34.166666666666664,
                    27.91666666666666,
                    53.333333333333336,
                    32.5,
                    47.49999999999999,
                    37.5,
                    50,
                    51.25000000000001,
                    32.08333333333333,
                    32.5,
                    29.166666666666668,
                    50.41666666666668,
                    38.75,
                    62.5,
                    43.333333333333336,
                    45.41666666666666,
                    49.58333333333333,
                    57.91666666666667,
                    54.166666666666664,
                    43.75,
                    45.83333333333333,
                    45.83333333333333,
                    51.25000000000001,
                    37.5,
                    30.416666666666664,
                    42.083333333333336,
                    40.833333333333336,
                    39.58333333333333,
                    50.416666666666664,
                    52.5,
                    39.166666666666664,
                    47.91666666666667,
                    29.583333333333332,
                    43.75,
                    44.166666666666664,
                    28.333333333333332,
                    40,
                    48.33333333333334,
                    53.75,
                    47.5,
                    29.583333333333332,
                    56.666666666666664,
                    44.58333333333333,
                    39.58333333333333,
                    38.75,
                    32.916666666666664,
                    37.916666666666664,
                    41.24999999999999,
                    58.333333333333336,
                    57.08333333333333,
                    29.166666666666668,
                    39.58333333333333,
                    38.33333333333333,
                    34.583333333333336,
                    43.333333333333336,
                    40.833333333333336,
                    37.916666666666664,
                    37.916666666666664,
                    38.75,
                    41.25,
                    39.58333333333333,
                    30.833333333333336,
                    53.333333333333336,
                    50.41666666666668,
                    56.666666666666664,
                    38.33333333333333,
                    44.166666666666664,
                    44.58333333333333,
                    33.33333333333333,
                    50.416666666666664,
                    43.75,
                    42.083333333333336,
                    38.33333333333333,
                    43.333333333333336,
                    43.33333333333333,
                    37.08333333333333,
                    47.083333333333336,
                    37.5,
                    45.416666666666664,
                    35.41666666666667,
                    50.41666666666668,
                    40.416666666666664,
                    45,
                    35,
                    27.916666666666668,
                    46.666666666666664,
                    41.66666666666667,
                    39.58333333333333,
                    41.25,
                    44.166666666666664,
                    32.083333333333336,
                    38.75,
                    44.58333333333333,
                    40,
                    37.5,
                    29.583333333333332,
                    58.333333333333336,
                    36.25,
                    25,
                    52.5,
                    26.666666666666668,
                    35.41666666666667,
                    53.75,
                    40.833333333333336,
                    25.416666666666664,
                    34.583333333333336,
                    48.75,
                    51.25000000000001,
                    40.416666666666664,
                    42.5,
                    43.75,
                    50.83333333333333,
                    33.75,
                    15.416666666666668,
                    40.416666666666664,
                    45.416666666666664,
                    25.833333333333336,
                    34.583333333333336,
                    50.83333333333333,
                    60.83333333333333,
                    40.833333333333336,
                    42.5,
                    42.08333333333334,
                    50.83333333333333,
                    42.083333333333336,
                    37.08333333333333,
                    49.16666666666667,
                    28.750000000000004,
                    40.00000000000001,
                    50.83333333333333,
                    45.83333333333333,
                    46.25,
                    40,
                    25,
                    51.25000000000001,
                    45,
                    30.833333333333336,
                    61.66666666666667,
                    35.41666666666667,
                    33.75,
                    34.583333333333336,
                    52.916666666666664,
                    42.91666666666667,
                    26.25,
                    52.083333333333336,
                    30.416666666666664,
                    54.99999999999999,
                    44.166666666666664,
                    37.08333333333333,
                    52.083333333333336,
                    44.58333333333333,
                    53.75,
                    44.16666666666667,
                    37.91666666666667,
                    35.41666666666667,
                    48.75,
                    41.66666666666667,
                    38.75,
                    26.666666666666668,
                    45.83333333333333,
                    56.25,
                    31.666666666666664,
                    35.41666666666667,
                    57.91666666666667,
                    43.75,
                    43.333333333333336,
                    29.166666666666668,
                    40,
                    47.083333333333336,
                    48.75,
                    46.25,
                    60.416666666666664,
                    41.25,
                    51.25000000000001,
                    49.58333333333333,
                    37.083333333333336,
                    40.416666666666664,
                    27.083333333333332,
                    35.41666666666667,
                    43.333333333333336,
                    36.25,
                    47.083333333333336,
                    43.333333333333336,
                    39.58333333333333,
                    30.83333333333333,
                    40.416666666666664,
                    40.00000000000001,
                    40.833333333333336,
                    28.333333333333332,
                    42.91666666666667,
                    50.83333333333333,
                    40.416666666666664,
                    36.25,
                    36.66666666666667,
                    27.91666666666666,
                    37.5,
                    50.41666666666668,
                    44.58333333333333,
                    43.75,
                    48.333333333333336,
                    40.416666666666664,
                    34.166666666666664,
                    38.33333333333333,
                    46.666666666666664,
                    32.5,
                    44.166666666666664,
                    32.083333333333336,
                    42.91666666666667,
                    37.916666666666664,
                    45.83333333333333,
                    37.5,
                    44.166666666666664,
                    41.25,
                    36.25,
                    49.58333333333333,
                    30,
                    42.5,
                    52.083333333333336,
                    36.25,
                    25.416666666666664,
                    35.833333333333336,
                    45.83333333333333,
                    48.75,
                    40.00000000000001,
                    44.58333333333333,
                    50.41666666666668,
                    47.49999999999999,
                    30,
                    41.25,
                    51.66666666666666,
                    44.166666666666664,
                    47.91666666666667,
                    47.5,
                    33.75,
                    30,
                    53.75,
                    38.75,
                    36.66666666666667,
                    48.333333333333336,
                    46.25,
                    41.24999999999999,
                    40.833333333333336,
                    50,
                    45.83333333333333,
                    45.83333333333333,
                    43.75,
                    42.083333333333336,
                    42.083333333333336,
                    40.416666666666664,
                    40.00000000000001,
                    49.58333333333333,
                    52.083333333333336,
                    46.666666666666664,
                    42.083333333333336,
                    35.41666666666667,
                    46.666666666666664,
                    54.58333333333334,
                    36.25,
                    31.25,
                    33.33333333333333,
                    48.33333333333334,
                    49.16666666666667,
                    49.16666666666667,
                    41.25,
                    28.750000000000004,
                    50.41666666666668,
                    34.166666666666664,
                    42.91666666666667,
                    46.25,
                    49.16666666666667,
                    48.333333333333336,
                    49.16666666666667,
                    25.416666666666664,
                    45.83333333333333,
                    37.5,
                    26.25,
                    47.91666666666667,
                    52.916666666666664,
                    48.33333333333334,
                    53.75,
                    48.33333333333334,
                    54.166666666666664,
                    47.5,
                    49.58333333333333,
                    39.58333333333333,
                    26.666666666666668,
                    41.25,
                    22.916666666666664,
                    46.666666666666664,
                    39.58333333333333,
                    42.91666666666667,
                    43.33333333333333,
                    34.166666666666664,
                    47.91666666666667,
                    40,
                    45.83333333333333,
                    37.083333333333336,
                    39.166666666666664,
                    40,
                    37.5,
                    37.916666666666664,
                    30.416666666666664,
                    32.5,
                    46.666666666666664,
                    35.41666666666667,
                    53.333333333333336,
                    40.416666666666664,
                    39.166666666666664,
                    38.75,
                    44.583333333333336,
                    43.75,
                    53.333333333333336,
                    37.5,
                    41.66666666666667,
                    42.083333333333336,
                    52.083333333333336,
                    42.083333333333336,
                    30.41666666666667,
                    50.416666666666664,
                    34.166666666666664,
                    49.16666666666667,
                    47.5,
                    50.83333333333333,
                    36.25,
                    38.33333333333333,
                    22.916666666666664,
                    29.166666666666668,
                    32.916666666666664,
                    42.083333333333336,
                    37.08333333333333,
                    39.58333333333333,
                    47.49999999999999,
                    45.83333333333333,
                    41.25,
                    47.083333333333336,
                    48.333333333333336,
                    38.75,
                    30.416666666666664,
                    35.83333333333334,
                    34.166666666666664,
                    31.25,
                    42.083333333333336,
                    38.33333333333333,
                    39.166666666666664,
                    31.66666666666667,
                    46.25,
                    36.66666666666667,
                    45,
                    39.58333333333333,
                    52.5,
                    40.833333333333336,
                    33.33333333333333,
                    42.083333333333336,
                    43.75,
                    43.75,
                    44.166666666666664,
                    41.25,
                    48.75,
                    28.333333333333332,
                    53.333333333333336,
                    45.416666666666664,
                    40.416666666666664,
                    46.25,
                    41.66666666666667,
                    31.25,
                    40.833333333333336,
                    30.41666666666667,
                    36.25,
                    51.25000000000001,
                    36.25,
                    44.58333333333333,
                    33.75,
                    39.166666666666664,
                    60,
                    31.25,
                    49.583333333333336,
                    40,
                    39.58333333333333,
                    48.333333333333336,
                    36.25,
                    39.58333333333333,
                    41.25,
                    42.91666666666667,
                    40.00000000000001,
                    44.58333333333333,
                    30.833333333333336,
                    44.58333333333333,
                    40.416666666666664,
                    43.75,
                    45.416666666666664,
                    30,
                    48.333333333333336,
                    37.5,
                    35.83333333333334,
                    45,
                    47.5,
                    51.25000000000001,
                    48.75,
                    34.583333333333336,
                    42.08333333333334,
                    28.333333333333332,
                    45.83333333333333,
                    41.25,
                    59.166666666666664,
                    33.33333333333333,
                    39.58333333333333,
                    45.83333333333333,
                    40,
                    40.833333333333336,
                    30.83333333333333,
                    34.99999999999999,
                    37.083333333333336,
                    38.75,
                    40.416666666666664,
                    40.833333333333336,
                    44.166666666666664,
                    42.5,
                    35.833333333333336,
                    41.66666666666667,
                    52.083333333333336,
                    49.58333333333333,
                    43.75,
                    45.83333333333333,
                    35,
                    45.83333333333333,
                    41.24999999999999,
                    39.16666666666666,
                    45.83333333333333,
                    35.41666666666667,
                    34.16666666666667,
                    34.166666666666664,
                    43.333333333333336,
                    50,
                    50.83333333333333,
                    37.083333333333336,
                    41.66666666666667,
                    32.916666666666664,
                    35,
                    35.41666666666667,
                    40.416666666666664,
                    42.91666666666667,
                    33.33333333333333,
                    34.166666666666664,
                    52.083333333333336,
                    29.166666666666668,
                    39.166666666666664,
                    60.416666666666664,
                    35,
                    15.833333333333332,
                    32.916666666666664,
                    47.5,
                    47.91666666666667,
                    32.083333333333336,
                    44.58333333333333,
                    46.25000000000001,
                    39.58333333333333,
                    63.75000000000001,
                    39.16666666666666,
                    50.416666666666664,
                    45.83333333333333,
                    38.33333333333333,
                    44.58333333333333,
                    49.16666666666667,
                    38.75,
                    52.083333333333336,
                    43.75,
                    48.33333333333334,
                    44.58333333333333,
                    45.83333333333333,
                    29.166666666666668,
                    46.25000000000001,
                    47.083333333333336,
                    26.25,
                    48.33333333333334,
                    30.41666666666667,
                    46.25,
                    46.25,
                    45.83333333333333,
                    29.166666666666668,
                    57.91666666666666,
                    51.25000000000001,
                    45.41666666666666,
                    45.416666666666664,
                    45,
                    59.583333333333336,
                    40.833333333333336,
                    36.25,
                    40,
                    32.5,
                    33.33333333333333,
                    35.41666666666667,
                    44.16666666666667,
                    40.833333333333336,
                    29.583333333333332,
                    43.333333333333336,
                    42.083333333333336,
                    46.25,
                    35.41666666666667,
                    47.5,
                    49.16666666666667,
                    27.083333333333332,
                    32.08333333333333,
                    37.083333333333336,
                    35.41666666666667,
                    48.333333333333336,
                    47.91666666666667,
                    51.66666666666667,
                    44.166666666666664,
                    47.91666666666667,
                    53.333333333333336,
                    27.083333333333332,
                    46.25,
                    57.50000000000001,
                    47.49999999999999,
                    57.50000000000001,
                    42.91666666666667,
                    43.75,
                    48.333333333333336,
                    30.416666666666664,
                    30.416666666666664,
                    35.41666666666667,
                    41.25,
                    41.66666666666667,
                    42.5,
                    40.833333333333336,
                    38.75,
                    35.833333333333336,
                    42.91666666666667,
                    42.083333333333336,
                    35.41666666666667,
                    49.16666666666667,
                    45.416666666666664,
                    36.66666666666667,
                    31.25,
                    31.25,
                    39.166666666666664,
                    46.25000000000001,
                    38.33333333333333,
                    44.58333333333333,
                    26.25,
                    45,
                    40.83333333333333,
                    49.583333333333336,
                    51.25000000000001,
                    48.75,
                    39.58333333333333,
                    22.5,
                    38.33333333333333,
                    41.25,
                    57.91666666666667,
                    38.75,
                    37.916666666666664,
                    42.08333333333334,
                    38.75,
                    42.5,
                    38.33333333333333,
                    50.416666666666664,
                    51.66666666666666,
                    40,
                    27.916666666666668,
                    34.583333333333336,
                    31.25,
                    27.499999999999996,
                    31.666666666666664,
                    38.33333333333333,
                    39.58333333333333,
                    46.666666666666664,
                    57.91666666666666,
                    37.5,
                    44.58333333333333,
                    43.333333333333336,
                    39.58333333333333,
                    39.166666666666664,
                    36.25,
                    36.66666666666667,
                    37.5,
                    35.41666666666667,
                    32.916666666666664,
                    32.916666666666664,
                    47.49999999999999,
                    45.416666666666664,
                    37.08333333333333,
                    51.66666666666666,
                    32.083333333333336,
                    41.24999999999999,
                    39.58333333333333,
                    40,
                    35,
                    36.25,
                    36.66666666666667,
                    62.5,
                    49.583333333333336,
                    47.91666666666667,
                    52.083333333333336,
                    54.58333333333333,
                    37.916666666666664,
                    32.5,
                    35.833333333333336,
                    45.416666666666664,
                    40.416666666666664,
                    40.833333333333336,
                    47.083333333333336,
                    42.5,
                    43.75,
                    29.583333333333332,
                    32.08333333333333,
                    34.166666666666664,
                    43.33333333333333,
                    47.91666666666667,
                    42.083333333333336,
                    38.75,
                    55.833333333333336,
                    49.16666666666667,
                    39.58333333333333,
                    42.91666666666667,
                    27.916666666666668,
                    50.416666666666664,
                    44.58333333333333,
                    39.166666666666664,
                    32.916666666666664,
                    25.41666666666667,
                    42.08333333333334,
                    47.083333333333336,
                    32.08333333333333,
                    34.583333333333336,
                    40.416666666666664,
                    35,
                    51.66666666666667,
                    32.08333333333333,
                    45,
                    40.416666666666664,
                    41.25,
                    30.833333333333336,
                    50,
                    38.75,
                    35,
                    51.25000000000001,
                    52.916666666666664,
                    34.166666666666664,
                    37.5,
                    23.75,
                    37.91666666666667,
                    52.916666666666664,
                    40.833333333333336,
                    41.66666666666667,
                    32.5,
                    46.25,
                    45.41666666666666,
                    36.25,
                    46.25000000000001,
                    44.58333333333333,
                    47.49999999999999,
                    38.75,
                    40,
                    41.66666666666667,
                    40.833333333333336,
                    29.166666666666668,
                    44.58333333333333,
                    39.166666666666664,
                    57.08333333333333,
                    39.166666666666664,
                    26.25,
                    37.083333333333336,
                    54.99999999999999,
                    51.66666666666666,
                    43.333333333333336,
                    41.66666666666667,
                    47.5,
                    33.75,
                    32.916666666666664,
                    30.83333333333333,
                    24.583333333333336,
                    40.416666666666664,
                    46.25,
                    41.25,
                    37.5,
                    30,
                    42.083333333333336,
                    40.416666666666664,
                    39.58333333333333,
                    54.166666666666664,
                    47.49999999999999
                  ],
                  "yaxis": "y2"
                },
                {
                  "marker": {
                    "color": "dodgerblue"
                  },
                  "name": "Productivity (%)",
                  "type": "bar",
                  "x": [
                    "F",
                    "D",
                    "C",
                    "B",
                    "A-",
                    "A",
                    "A+"
                  ],
                  "xaxis": "x3",
                  "y": [
                    27.61574074074074,
                    32.62152777777778,
                    34.51310861423221,
                    36.05960264900662,
                    40.44471153846154,
                    43.01103988603989,
                    48.83001207729469
                  ],
                  "yaxis": "y3"
                },
                {
                  "marker": {
                    "color": "salmon"
                  },
                  "name": "Unproductivity (%)",
                  "type": "bar",
                  "x": [
                    "F",
                    "D",
                    "C",
                    "B",
                    "A-",
                    "A",
                    "A+"
                  ],
                  "xaxis": "x3",
                  "y": [
                    23.449074074074073,
                    20.97222222222222,
                    20.379213483146067,
                    19.07560706401766,
                    18.772035256410255,
                    17.50712250712251,
                    15.945048309178743
                  ],
                  "yaxis": "y3"
                },
                {
                  "marker": {
                    "color": "purple"
                  },
                  "name": "Job Hours (%)",
                  "type": "bar",
                  "x": [
                    "F",
                    "D",
                    "C",
                    "B",
                    "A-",
                    "A",
                    "A+"
                  ],
                  "xaxis": "x3",
                  "y": [
                    2.7777777777777777,
                    2.0833333333333335,
                    2.808988764044944,
                    3.062913907284768,
                    2.824519230769231,
                    2.6709401709401708,
                    2.4003623188405796
                  ],
                  "yaxis": "y3"
                }
              ],
              "layout": {
                "annotations": [
                  {
                    "font": {
                      "size": 16
                    },
                    "showarrow": false,
                    "text": "Average Productivity by Grade",
                    "x": 0.225,
                    "xanchor": "center",
                    "xref": "paper",
                    "y": 1,
                    "yanchor": "bottom",
                    "yref": "paper"
                  },
                  {
                    "font": {
                      "size": 16
                    },
                    "showarrow": false,
                    "text": "Productivity Distribution by Grade",
                    "x": 0.775,
                    "xanchor": "center",
                    "xref": "paper",
                    "y": 1,
                    "yanchor": "bottom",
                    "yref": "paper"
                  },
                  {
                    "font": {
                      "size": 16
                    },
                    "showarrow": false,
                    "text": "Comparison of Productivity, Unproductivity, Job Hours",
                    "x": 0.5,
                    "xanchor": "center",
                    "xref": "paper",
                    "y": 0.375,
                    "yanchor": "bottom",
                    "yref": "paper"
                  }
                ],
                "barmode": "group",
                "height": 900,
                "showlegend": true,
                "template": {
                  "data": {
                    "bar": [
                      {
                        "error_x": {
                          "color": "#2a3f5f"
                        },
                        "error_y": {
                          "color": "#2a3f5f"
                        },
                        "marker": {
                          "line": {
                            "color": "white",
                            "width": 0.5
                          },
                          "pattern": {
                            "fillmode": "overlay",
                            "size": 10,
                            "solidity": 0.2
                          }
                        },
                        "type": "bar"
                      }
                    ],
                    "barpolar": [
                      {
                        "marker": {
                          "line": {
                            "color": "white",
                            "width": 0.5
                          },
                          "pattern": {
                            "fillmode": "overlay",
                            "size": 10,
                            "solidity": 0.2
                          }
                        },
                        "type": "barpolar"
                      }
                    ],
                    "carpet": [
                      {
                        "aaxis": {
                          "endlinecolor": "#2a3f5f",
                          "gridcolor": "#C8D4E3",
                          "linecolor": "#C8D4E3",
                          "minorgridcolor": "#C8D4E3",
                          "startlinecolor": "#2a3f5f"
                        },
                        "baxis": {
                          "endlinecolor": "#2a3f5f",
                          "gridcolor": "#C8D4E3",
                          "linecolor": "#C8D4E3",
                          "minorgridcolor": "#C8D4E3",
                          "startlinecolor": "#2a3f5f"
                        },
                        "type": "carpet"
                      }
                    ],
                    "choropleth": [
                      {
                        "colorbar": {
                          "outlinewidth": 0,
                          "ticks": ""
                        },
                        "type": "choropleth"
                      }
                    ],
                    "contour": [
                      {
                        "colorbar": {
                          "outlinewidth": 0,
                          "ticks": ""
                        },
                        "colorscale": [
                          [
                            0,
                            "#0d0887"
                          ],
                          [
                            0.1111111111111111,
                            "#46039f"
                          ],
                          [
                            0.2222222222222222,
                            "#7201a8"
                          ],
                          [
                            0.3333333333333333,
                            "#9c179e"
                          ],
                          [
                            0.4444444444444444,
                            "#bd3786"
                          ],
                          [
                            0.5555555555555556,
                            "#d8576b"
                          ],
                          [
                            0.6666666666666666,
                            "#ed7953"
                          ],
                          [
                            0.7777777777777778,
                            "#fb9f3a"
                          ],
                          [
                            0.8888888888888888,
                            "#fdca26"
                          ],
                          [
                            1,
                            "#f0f921"
                          ]
                        ],
                        "type": "contour"
                      }
                    ],
                    "contourcarpet": [
                      {
                        "colorbar": {
                          "outlinewidth": 0,
                          "ticks": ""
                        },
                        "type": "contourcarpet"
                      }
                    ],
                    "heatmap": [
                      {
                        "colorbar": {
                          "outlinewidth": 0,
                          "ticks": ""
                        },
                        "colorscale": [
                          [
                            0,
                            "#0d0887"
                          ],
                          [
                            0.1111111111111111,
                            "#46039f"
                          ],
                          [
                            0.2222222222222222,
                            "#7201a8"
                          ],
                          [
                            0.3333333333333333,
                            "#9c179e"
                          ],
                          [
                            0.4444444444444444,
                            "#bd3786"
                          ],
                          [
                            0.5555555555555556,
                            "#d8576b"
                          ],
                          [
                            0.6666666666666666,
                            "#ed7953"
                          ],
                          [
                            0.7777777777777778,
                            "#fb9f3a"
                          ],
                          [
                            0.8888888888888888,
                            "#fdca26"
                          ],
                          [
                            1,
                            "#f0f921"
                          ]
                        ],
                        "type": "heatmap"
                      }
                    ],
                    "heatmapgl": [
                      {
                        "colorbar": {
                          "outlinewidth": 0,
                          "ticks": ""
                        },
                        "colorscale": [
                          [
                            0,
                            "#0d0887"
                          ],
                          [
                            0.1111111111111111,
                            "#46039f"
                          ],
                          [
                            0.2222222222222222,
                            "#7201a8"
                          ],
                          [
                            0.3333333333333333,
                            "#9c179e"
                          ],
                          [
                            0.4444444444444444,
                            "#bd3786"
                          ],
                          [
                            0.5555555555555556,
                            "#d8576b"
                          ],
                          [
                            0.6666666666666666,
                            "#ed7953"
                          ],
                          [
                            0.7777777777777778,
                            "#fb9f3a"
                          ],
                          [
                            0.8888888888888888,
                            "#fdca26"
                          ],
                          [
                            1,
                            "#f0f921"
                          ]
                        ],
                        "type": "heatmapgl"
                      }
                    ],
                    "histogram": [
                      {
                        "marker": {
                          "pattern": {
                            "fillmode": "overlay",
                            "size": 10,
                            "solidity": 0.2
                          }
                        },
                        "type": "histogram"
                      }
                    ],
                    "histogram2d": [
                      {
                        "colorbar": {
                          "outlinewidth": 0,
                          "ticks": ""
                        },
                        "colorscale": [
                          [
                            0,
                            "#0d0887"
                          ],
                          [
                            0.1111111111111111,
                            "#46039f"
                          ],
                          [
                            0.2222222222222222,
                            "#7201a8"
                          ],
                          [
                            0.3333333333333333,
                            "#9c179e"
                          ],
                          [
                            0.4444444444444444,
                            "#bd3786"
                          ],
                          [
                            0.5555555555555556,
                            "#d8576b"
                          ],
                          [
                            0.6666666666666666,
                            "#ed7953"
                          ],
                          [
                            0.7777777777777778,
                            "#fb9f3a"
                          ],
                          [
                            0.8888888888888888,
                            "#fdca26"
                          ],
                          [
                            1,
                            "#f0f921"
                          ]
                        ],
                        "type": "histogram2d"
                      }
                    ],
                    "histogram2dcontour": [
                      {
                        "colorbar": {
                          "outlinewidth": 0,
                          "ticks": ""
                        },
                        "colorscale": [
                          [
                            0,
                            "#0d0887"
                          ],
                          [
                            0.1111111111111111,
                            "#46039f"
                          ],
                          [
                            0.2222222222222222,
                            "#7201a8"
                          ],
                          [
                            0.3333333333333333,
                            "#9c179e"
                          ],
                          [
                            0.4444444444444444,
                            "#bd3786"
                          ],
                          [
                            0.5555555555555556,
                            "#d8576b"
                          ],
                          [
                            0.6666666666666666,
                            "#ed7953"
                          ],
                          [
                            0.7777777777777778,
                            "#fb9f3a"
                          ],
                          [
                            0.8888888888888888,
                            "#fdca26"
                          ],
                          [
                            1,
                            "#f0f921"
                          ]
                        ],
                        "type": "histogram2dcontour"
                      }
                    ],
                    "mesh3d": [
                      {
                        "colorbar": {
                          "outlinewidth": 0,
                          "ticks": ""
                        },
                        "type": "mesh3d"
                      }
                    ],
                    "parcoords": [
                      {
                        "line": {
                          "colorbar": {
                            "outlinewidth": 0,
                            "ticks": ""
                          }
                        },
                        "type": "parcoords"
                      }
                    ],
                    "pie": [
                      {
                        "automargin": true,
                        "type": "pie"
                      }
                    ],
                    "scatter": [
                      {
                        "fillpattern": {
                          "fillmode": "overlay",
                          "size": 10,
                          "solidity": 0.2
                        },
                        "type": "scatter"
                      }
                    ],
                    "scatter3d": [
                      {
                        "line": {
                          "colorbar": {
                            "outlinewidth": 0,
                            "ticks": ""
                          }
                        },
                        "marker": {
                          "colorbar": {
                            "outlinewidth": 0,
                            "ticks": ""
                          }
                        },
                        "type": "scatter3d"
                      }
                    ],
                    "scattercarpet": [
                      {
                        "marker": {
                          "colorbar": {
                            "outlinewidth": 0,
                            "ticks": ""
                          }
                        },
                        "type": "scattercarpet"
                      }
                    ],
                    "scattergeo": [
                      {
                        "marker": {
                          "colorbar": {
                            "outlinewidth": 0,
                            "ticks": ""
                          }
                        },
                        "type": "scattergeo"
                      }
                    ],
                    "scattergl": [
                      {
                        "marker": {
                          "colorbar": {
                            "outlinewidth": 0,
                            "ticks": ""
                          }
                        },
                        "type": "scattergl"
                      }
                    ],
                    "scattermapbox": [
                      {
                        "marker": {
                          "colorbar": {
                            "outlinewidth": 0,
                            "ticks": ""
                          }
                        },
                        "type": "scattermapbox"
                      }
                    ],
                    "scatterpolar": [
                      {
                        "marker": {
                          "colorbar": {
                            "outlinewidth": 0,
                            "ticks": ""
                          }
                        },
                        "type": "scatterpolar"
                      }
                    ],
                    "scatterpolargl": [
                      {
                        "marker": {
                          "colorbar": {
                            "outlinewidth": 0,
                            "ticks": ""
                          }
                        },
                        "type": "scatterpolargl"
                      }
                    ],
                    "scatterternary": [
                      {
                        "marker": {
                          "colorbar": {
                            "outlinewidth": 0,
                            "ticks": ""
                          }
                        },
                        "type": "scatterternary"
                      }
                    ],
                    "surface": [
                      {
                        "colorbar": {
                          "outlinewidth": 0,
                          "ticks": ""
                        },
                        "colorscale": [
                          [
                            0,
                            "#0d0887"
                          ],
                          [
                            0.1111111111111111,
                            "#46039f"
                          ],
                          [
                            0.2222222222222222,
                            "#7201a8"
                          ],
                          [
                            0.3333333333333333,
                            "#9c179e"
                          ],
                          [
                            0.4444444444444444,
                            "#bd3786"
                          ],
                          [
                            0.5555555555555556,
                            "#d8576b"
                          ],
                          [
                            0.6666666666666666,
                            "#ed7953"
                          ],
                          [
                            0.7777777777777778,
                            "#fb9f3a"
                          ],
                          [
                            0.8888888888888888,
                            "#fdca26"
                          ],
                          [
                            1,
                            "#f0f921"
                          ]
                        ],
                        "type": "surface"
                      }
                    ],
                    "table": [
                      {
                        "cells": {
                          "fill": {
                            "color": "#EBF0F8"
                          },
                          "line": {
                            "color": "white"
                          }
                        },
                        "header": {
                          "fill": {
                            "color": "#C8D4E3"
                          },
                          "line": {
                            "color": "white"
                          }
                        },
                        "type": "table"
                      }
                    ]
                  },
                  "layout": {
                    "annotationdefaults": {
                      "arrowcolor": "#2a3f5f",
                      "arrowhead": 0,
                      "arrowwidth": 1
                    },
                    "autotypenumbers": "strict",
                    "coloraxis": {
                      "colorbar": {
                        "outlinewidth": 0,
                        "ticks": ""
                      }
                    },
                    "colorscale": {
                      "diverging": [
                        [
                          0,
                          "#8e0152"
                        ],
                        [
                          0.1,
                          "#c51b7d"
                        ],
                        [
                          0.2,
                          "#de77ae"
                        ],
                        [
                          0.3,
                          "#f1b6da"
                        ],
                        [
                          0.4,
                          "#fde0ef"
                        ],
                        [
                          0.5,
                          "#f7f7f7"
                        ],
                        [
                          0.6,
                          "#e6f5d0"
                        ],
                        [
                          0.7,
                          "#b8e186"
                        ],
                        [
                          0.8,
                          "#7fbc41"
                        ],
                        [
                          0.9,
                          "#4d9221"
                        ],
                        [
                          1,
                          "#276419"
                        ]
                      ],
                      "sequential": [
                        [
                          0,
                          "#0d0887"
                        ],
                        [
                          0.1111111111111111,
                          "#46039f"
                        ],
                        [
                          0.2222222222222222,
                          "#7201a8"
                        ],
                        [
                          0.3333333333333333,
                          "#9c179e"
                        ],
                        [
                          0.4444444444444444,
                          "#bd3786"
                        ],
                        [
                          0.5555555555555556,
                          "#d8576b"
                        ],
                        [
                          0.6666666666666666,
                          "#ed7953"
                        ],
                        [
                          0.7777777777777778,
                          "#fb9f3a"
                        ],
                        [
                          0.8888888888888888,
                          "#fdca26"
                        ],
                        [
                          1,
                          "#f0f921"
                        ]
                      ],
                      "sequentialminus": [
                        [
                          0,
                          "#0d0887"
                        ],
                        [
                          0.1111111111111111,
                          "#46039f"
                        ],
                        [
                          0.2222222222222222,
                          "#7201a8"
                        ],
                        [
                          0.3333333333333333,
                          "#9c179e"
                        ],
                        [
                          0.4444444444444444,
                          "#bd3786"
                        ],
                        [
                          0.5555555555555556,
                          "#d8576b"
                        ],
                        [
                          0.6666666666666666,
                          "#ed7953"
                        ],
                        [
                          0.7777777777777778,
                          "#fb9f3a"
                        ],
                        [
                          0.8888888888888888,
                          "#fdca26"
                        ],
                        [
                          1,
                          "#f0f921"
                        ]
                      ]
                    },
                    "colorway": [
                      "#636efa",
                      "#EF553B",
                      "#00cc96",
                      "#ab63fa",
                      "#FFA15A",
                      "#19d3f3",
                      "#FF6692",
                      "#B6E880",
                      "#FF97FF",
                      "#FECB52"
                    ],
                    "font": {
                      "color": "#2a3f5f"
                    },
                    "geo": {
                      "bgcolor": "white",
                      "lakecolor": "white",
                      "landcolor": "white",
                      "showlakes": true,
                      "showland": true,
                      "subunitcolor": "#C8D4E3"
                    },
                    "hoverlabel": {
                      "align": "left"
                    },
                    "hovermode": "closest",
                    "mapbox": {
                      "style": "light"
                    },
                    "paper_bgcolor": "white",
                    "plot_bgcolor": "white",
                    "polar": {
                      "angularaxis": {
                        "gridcolor": "#EBF0F8",
                        "linecolor": "#EBF0F8",
                        "ticks": ""
                      },
                      "bgcolor": "white",
                      "radialaxis": {
                        "gridcolor": "#EBF0F8",
                        "linecolor": "#EBF0F8",
                        "ticks": ""
                      }
                    },
                    "scene": {
                      "xaxis": {
                        "backgroundcolor": "white",
                        "gridcolor": "#DFE8F3",
                        "gridwidth": 2,
                        "linecolor": "#EBF0F8",
                        "showbackground": true,
                        "ticks": "",
                        "zerolinecolor": "#EBF0F8"
                      },
                      "yaxis": {
                        "backgroundcolor": "white",
                        "gridcolor": "#DFE8F3",
                        "gridwidth": 2,
                        "linecolor": "#EBF0F8",
                        "showbackground": true,
                        "ticks": "",
                        "zerolinecolor": "#EBF0F8"
                      },
                      "zaxis": {
                        "backgroundcolor": "white",
                        "gridcolor": "#DFE8F3",
                        "gridwidth": 2,
                        "linecolor": "#EBF0F8",
                        "showbackground": true,
                        "ticks": "",
                        "zerolinecolor": "#EBF0F8"
                      }
                    },
                    "shapedefaults": {
                      "line": {
                        "color": "#2a3f5f"
                      }
                    },
                    "ternary": {
                      "aaxis": {
                        "gridcolor": "#DFE8F3",
                        "linecolor": "#A2B1C6",
                        "ticks": ""
                      },
                      "baxis": {
                        "gridcolor": "#DFE8F3",
                        "linecolor": "#A2B1C6",
                        "ticks": ""
                      },
                      "bgcolor": "white",
                      "caxis": {
                        "gridcolor": "#DFE8F3",
                        "linecolor": "#A2B1C6",
                        "ticks": ""
                      }
                    },
                    "title": {
                      "x": 0.05
                    },
                    "xaxis": {
                      "automargin": true,
                      "gridcolor": "#EBF0F8",
                      "linecolor": "#EBF0F8",
                      "ticks": "",
                      "title": {
                        "standoff": 15
                      },
                      "zerolinecolor": "#EBF0F8",
                      "zerolinewidth": 2
                    },
                    "yaxis": {
                      "automargin": true,
                      "gridcolor": "#EBF0F8",
                      "linecolor": "#EBF0F8",
                      "ticks": "",
                      "title": {
                        "standoff": 15
                      },
                      "zerolinecolor": "#EBF0F8",
                      "zerolinewidth": 2
                    }
                  }
                },
                "title": {
                  "text": "Student Productivity vs Grades Dashboard"
                },
                "width": 1200,
                "xaxis": {
                  "anchor": "y",
                  "domain": [
                    0,
                    0.45
                  ]
                },
                "xaxis2": {
                  "anchor": "y2",
                  "domain": [
                    0.55,
                    1
                  ]
                },
                "xaxis3": {
                  "anchor": "y3",
                  "domain": [
                    0,
                    1
                  ]
                },
                "yaxis": {
                  "anchor": "x",
                  "domain": [
                    0.625,
                    1
                  ]
                },
                "yaxis2": {
                  "anchor": "x2",
                  "domain": [
                    0.625,
                    1
                  ]
                },
                "yaxis3": {
                  "anchor": "x3",
                  "domain": [
                    0,
                    0.375
                  ]
                }
              }
            }
          },
          "metadata": {},
          "output_type": "display_data"
        }
      ],
      "source": [
        "import plotly.graph_objects as go\n",
        "from plotly.subplots import make_subplots\n",
        "import plotly.express as px\n",
        "\n",
        "avg_productivity = df.groupby('grades')['percentage_of_prductivity'].mean().reset_index()\n",
        "avg_values = df.groupby('grades')[['percentage_of_prductivity', 'percentage_of_unprductivity', 'percentage_of_job_hours']].mean().reset_index()\n",
        "\n",
        "fig = make_subplots(\n",
        "    rows=2, cols=2,\n",
        "    subplot_titles=(\"Average Productivity by Grade\", \"Productivity Distribution by Grade\", \"Comparison of Productivity, Unproductivity, Job Hours\"),\n",
        "    specs=[[{\"type\": \"bar\"}, {\"type\": \"box\"}],\n",
        "           [{\"colspan\": 2, \"type\": \"bar\"}, None]] \n",
        ")\n",
        "\n",
        "fig.add_trace(\n",
        "    go.Bar(\n",
        "        x=avg_productivity['grades'],\n",
        "        y=avg_productivity['percentage_of_prductivity'],\n",
        "        marker_color='blue',\n",
        "        name=\"Avg Productivity\"\n",
        "    ),\n",
        "    row=1, col=1\n",
        ")\n",
        "\n",
        "fig.add_trace(\n",
        "    go.Box(\n",
        "        x=df['grades'],\n",
        "        y=df['percentage_of_prductivity'],\n",
        "        marker_color='green',\n",
        "        name=\"Productivity Distribution\"\n",
        "    ),\n",
        "    row=1, col=2\n",
        ")\n",
        "\n",
        "fig.add_trace(\n",
        "    go.Bar(\n",
        "        x=avg_values['grades'],\n",
        "        y=avg_values['percentage_of_prductivity'],\n",
        "        name=\"Productivity (%)\",\n",
        "        marker_color='dodgerblue'\n",
        "    ),\n",
        "    row=2, col=1\n",
        ")\n",
        "fig.add_trace(\n",
        "    go.Bar(\n",
        "        x=avg_values['grades'],\n",
        "        y=avg_values['percentage_of_unprductivity'],\n",
        "        name=\"Unproductivity (%)\",\n",
        "        marker_color='salmon'\n",
        "    ),\n",
        "    row=2, col=1\n",
        ")\n",
        "fig.add_trace(\n",
        "    go.Bar(\n",
        "        x=avg_values['grades'],\n",
        "        y=avg_values['percentage_of_job_hours'],\n",
        "        name=\"Job Hours (%)\",\n",
        "        marker_color='purple'\n",
        "    ),\n",
        "    row=2, col=1\n",
        ")\n",
        "\n",
        "fig.update_layout(\n",
        "    title_text=\"Student Productivity vs Grades Dashboard\",\n",
        "    height=900,\n",
        "    width=1200,\n",
        "    barmode='group',\n",
        "    template='plotly_white',\n",
        "    showlegend=True\n",
        ")\n",
        "\n",
        "fig.show();\n"
      ]
    }
  ],
  "metadata": {
    "colab": {
      "authorship_tag": "ABX9TyOwlnYLiN72hY+4r8IgtmYw",
      "include_colab_link": true,
      "provenance": []
    },
    "kernelspec": {
      "display_name": "base",
      "language": "python",
      "name": "python3"
    },
    "language_info": {
      "codemirror_mode": {
        "name": "ipython",
        "version": 3
      },
      "file_extension": ".py",
      "mimetype": "text/x-python",
      "name": "python",
      "nbconvert_exporter": "python",
      "pygments_lexer": "ipython3",
      "version": "3.12.4"
    }
  },
  "nbformat": 4,
  "nbformat_minor": 0
}
